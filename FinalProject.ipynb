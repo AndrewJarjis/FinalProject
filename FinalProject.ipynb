{
 "cells": [
  {
   "cell_type": "code",
   "execution_count": 46,
   "id": "d96b7dab",
   "metadata": {},
   "outputs": [
    {
     "name": "stdout",
     "output_type": "stream",
     "text": [
      "      working_time_pass           working_time_arrival   \n",
      "count                 0                          37100  \\\n",
      "mean                NaT  2023-07-28 02:07:39.208220928   \n",
      "min                 NaT            2023-07-27 00:01:00   \n",
      "25%                 NaT            2023-07-27 19:55:00   \n",
      "50%                 NaT            2023-07-27 23:20:00   \n",
      "75%                 NaT            2023-07-28 07:54:00   \n",
      "max                 NaT            2023-07-29 02:15:00   \n",
      "std                 NaN                            NaN   \n",
      "\n",
      "              working_time_departure           planned_time_arrival   \n",
      "count                          37100                          33855  \\\n",
      "mean   2023-07-28 02:07:31.254582272  2023-07-28 02:31:47.884802816   \n",
      "min              2023-07-27 00:01:00            2023-07-27 00:01:00   \n",
      "25%              2023-07-27 19:55:00            2023-07-27 19:54:00   \n",
      "50%              2023-07-27 23:21:00            2023-07-27 23:19:00   \n",
      "75%              2023-07-28 07:55:00            2023-07-28 08:23:00   \n",
      "max              2023-07-29 02:16:00            2023-07-29 01:30:00   \n",
      "std                              NaN                            NaN   \n",
      "\n",
      "              planned_time_departure  pass            actual_arrival_time   \n",
      "count                          33580   0.0                          31769  \\\n",
      "mean   2023-07-28 02:38:37.592018944   NaN  2023-07-28 03:08:21.409550080   \n",
      "min              2023-07-27 00:01:00   NaN            2023-07-27 00:00:00   \n",
      "25%              2023-07-27 19:56:00   NaN            2023-07-27 20:23:00   \n",
      "50%              2023-07-27 23:19:00   NaN            2023-07-28 00:34:00   \n",
      "75%              2023-07-28 08:27:00   NaN            2023-07-28 09:14:00   \n",
      "max              2023-07-29 01:30:00   NaN            2023-07-29 02:15:00   \n",
      "std                              NaN   NaN                            NaN   \n",
      "\n",
      "               actual_departure_time  \n",
      "count                          34384  \n",
      "mean   2023-07-28 02:35:13.867496704  \n",
      "min              2023-07-27 00:00:00  \n",
      "25%              2023-07-27 20:07:00  \n",
      "50%              2023-07-27 23:42:00  \n",
      "75%              2023-07-28 08:24:00  \n",
      "max              2023-07-29 02:16:00  \n",
      "std                              NaN  \n"
     ]
    }
   ],
   "source": [
    "import pandas as pd\n",
    "import matplotlib.pyplot as plt\n",
    "import seaborn as sns\n",
    "\n",
    "# Load the data from the Parquet file\n",
    "data_file_parquet = '/Users/andre/github-classroom/rail_data_cleaned_20230728132300.parquet'\n",
    "df = pd.read_parquet(data_file_parquet)\n",
    "\n",
    "\n",
    "# Summary statistics of the dataset\n",
    "print(df.describe())\n",
    "\n",
    "\n",
    "\n"
   ]
  },
  {
   "cell_type": "code",
   "execution_count": 11,
   "id": "26dccb9c",
   "metadata": {},
   "outputs": [
    {
     "name": "stdout",
     "output_type": "stream",
     "text": [
      "           route_id unique_id service_start_date update_origin train_platform   \n",
      "8   202307277679020    L79020         2023-07-27        Darwin           STFD  \\\n",
      "10  202307277679020    L79020         2023-07-27        Darwin        SPNY205   \n",
      "16  202307277679020    L79020         2023-07-27        Darwin         PADTLL   \n",
      "17  202307277679020    L79020         2023-07-27        Darwin        WBRNPKS   \n",
      "22  202307277674553    L74553         2023-07-27            TD        SVNOAKS   \n",
      "\n",
      "   working_time_pass working_time_arrival working_time_departure   \n",
      "8                NaT  2023-07-27 00:03:00    2023-07-27 00:03:30  \\\n",
      "10               NaT  2023-07-27 00:07:00    2023-07-27 00:13:30   \n",
      "16               NaT  2023-07-27 00:30:30    2023-07-27 00:31:00   \n",
      "17               NaT  2023-07-27 00:33:00    2023-07-27 00:35:00   \n",
      "22               NaT  2023-07-27 21:53:00    2023-07-27 21:54:30   \n",
      "\n",
      "   planned_time_arrival planned_time_departure  pass platform train_length   \n",
      "8                   NaT                    NaT   NaN        5         None  \\\n",
      "10                  NaT                    NaT   NaN     None         None   \n",
      "16                  NaT                    NaT   NaN        B         None   \n",
      "17                  NaT                    NaT   NaN        A         None   \n",
      "22  2023-07-27 21:53:00    2023-07-27 21:54:00   NaN        1            8   \n",
      "\n",
      "   actual_arrival_time actual_departure_time  is_delayed_arrival   \n",
      "8  2023-07-27 00:53:00   2023-07-27 00:53:00                True  \\\n",
      "10 2023-07-27 00:57:00   2023-07-27 00:58:00                True   \n",
      "16 2023-07-27 01:07:00   2023-07-27 01:07:00                True   \n",
      "17 2023-07-27 01:09:00   2023-07-27 01:10:00                True   \n",
      "22                 NaT                   NaT               False   \n",
      "\n",
      "    is_delayed_departure  \n",
      "8                   True  \n",
      "10                  True  \n",
      "16                  True  \n",
      "17                  True  \n",
      "22                 False  \n"
     ]
    }
   ],
   "source": [
    "print(df.head())"
   ]
  },
  {
   "cell_type": "code",
   "execution_count": 12,
   "id": "78c48669",
   "metadata": {},
   "outputs": [
    {
     "name": "stdout",
     "output_type": "stream",
     "text": [
      "route_id                      0\n",
      "unique_id                     0\n",
      "service_start_date            0\n",
      "update_origin               585\n",
      "train_platform                0\n",
      "working_time_pass         37100\n",
      "working_time_arrival          0\n",
      "working_time_departure        0\n",
      "planned_time_arrival       3245\n",
      "planned_time_departure     3520\n",
      "pass                      37100\n",
      "platform                   2986\n",
      "train_length              26505\n",
      "actual_arrival_time        5331\n",
      "actual_departure_time      2716\n",
      "is_delayed_arrival            0\n",
      "is_delayed_departure          0\n",
      "dtype: int64\n"
     ]
    }
   ],
   "source": [
    "# Check for missing values\n",
    "print(df.isnull().sum())\n"
   ]
  },
  {
   "cell_type": "code",
   "execution_count": 13,
   "id": "3d405584",
   "metadata": {},
   "outputs": [
    {
     "name": "stdout",
     "output_type": "stream",
     "text": [
      "route_id                          object\n",
      "unique_id                         object\n",
      "service_start_date                object\n",
      "update_origin                     object\n",
      "train_platform                    object\n",
      "working_time_pass         datetime64[ns]\n",
      "working_time_arrival      datetime64[ns]\n",
      "working_time_departure    datetime64[ns]\n",
      "planned_time_arrival      datetime64[ns]\n",
      "planned_time_departure    datetime64[ns]\n",
      "pass                             float64\n",
      "platform                          object\n",
      "train_length                      object\n",
      "actual_arrival_time       datetime64[ns]\n",
      "actual_departure_time     datetime64[ns]\n",
      "is_delayed_arrival                  bool\n",
      "is_delayed_departure                bool\n",
      "dtype: object\n"
     ]
    }
   ],
   "source": [
    "# Data types of columns\n",
    "print(df.dtypes)\n"
   ]
  },
  {
   "cell_type": "code",
   "execution_count": 14,
   "id": "690da901",
   "metadata": {},
   "outputs": [
    {
     "name": "stdout",
     "output_type": "stream",
     "text": [
      "Unique values in update_origin: ['Darwin' 'TD' 'CIS' 'Trust' None 'Tyrell' 'Workstation']\n",
      "Unique values in train_platform: ['STFD' 'SPNY205' 'PADTLL' ... 'NEILTBS' 'THUSTON' 'PRKSTON']\n",
      "Unique values in platform: ['5' None 'B' 'A' '1' '8' '2' '4' '3' '10' 'CL' 'BUS' '6' '4A' '12B' '7'\n",
      " '7N' '0' '14' '3B' 'UDG' '9' 'SDG' '15' '13' '5B' 'HS' 'DTS' '12' '11'\n",
      " '15A' '12C' '4B' 'S1' '9C' '5A' '3A' 'DER' '10A' '17' '12A' '16' '6A'\n",
      " '11A' '1B' 'URS' '11B' '2B' 'D' 'RES' 'C' 'DTL' '15B' '1A' '1L' '9B' '2A'\n",
      " '19' '8D' '7B' 'UML' '9E' 'UDS' '8B' '6B' '7A' 'S4' 'TBC' '9A' 'EXE'\n",
      " 'SGL' 'DM' '16A' '11D' 'DOR' 'S3' '13B' 'TRU' '8A' '16B' 'GL1' '14A'\n",
      " 'DRL' 'DG' '14B' 'NEW' 'EXM' 'FAL' '2F' '6N' '1C' 'PLY' 'UPL' 'GUN']\n"
     ]
    }
   ],
   "source": [
    "# Explore unique values in categorical columns\n",
    "categorical_columns = ['update_origin', 'train_platform', 'platform']\n",
    "for col in categorical_columns:\n",
    "    print(f\"Unique values in {col}: {df[col].unique()}\")\n"
   ]
  },
  {
   "cell_type": "code",
   "execution_count": 15,
   "id": "27e2c844",
   "metadata": {},
   "outputs": [
    {
     "name": "stdout",
     "output_type": "stream",
     "text": [
      "update_origin\n",
      "CIS            14433\n",
      "TD             10576\n",
      "Darwin          8983\n",
      "Trust           2203\n",
      "Tyrell           292\n",
      "Workstation       28\n",
      "Name: count, dtype: int64\n",
      "train_platform\n",
      "LNDNBDE    317\n",
      "WLOE       166\n",
      "ECROYDN    147\n",
      "CRKLWD     147\n",
      "STKP       147\n",
      "          ... \n",
      "PRTSMTA      1\n",
      "CHAPLTN      1\n",
      "DIDCTNJ      1\n",
      "WANTRD       1\n",
      "PRKSTON      1\n",
      "Name: count, Length: 2603, dtype: int64\n",
      "platform\n",
      "2      12802\n",
      "1      12575\n",
      "3       2946\n",
      "4       2005\n",
      "5        709\n",
      "       ...  \n",
      "GL1        1\n",
      "16B        1\n",
      "9E         1\n",
      "TRU        1\n",
      "2B         1\n",
      "Name: count, Length: 93, dtype: int64\n"
     ]
    }
   ],
   "source": [
    "# Frequency count for 'update_origin'\n",
    "update_origin_counts = df['update_origin'].value_counts()\n",
    "print(update_origin_counts)\n",
    "\n",
    "# Frequency count for 'train_platform'\n",
    "train_platform_counts = df['train_platform'].value_counts()\n",
    "print(train_platform_counts)\n",
    "\n",
    "# Frequency count for 'platform'\n",
    "platform_counts = df['platform'].value_counts()\n",
    "print(platform_counts)\n"
   ]
  },
  {
   "cell_type": "code",
   "execution_count": 17,
   "id": "bf747d1f",
   "metadata": {},
   "outputs": [
    {
     "data": {
      "image/png": "[encoded data removed]",
      "text/plain": [
       "<Figure size 1000x600 with 1 Axes>"
      ]
     },
     "metadata": {},
     "output_type": "display_data"
    }
   ],
   "source": [
    "# Frequency count data\n",
    "update_origin_counts = {\n",
    "    'CIS': 14433,\n",
    "    'TD': 10576,\n",
    "    'Darwin': 8983,\n",
    "    'Trust': 2203,\n",
    "    'Tyrell': 292,\n",
    "    'Workstation': 28\n",
    "}\n",
    "\n",
    "train_platform_counts = {\n",
    "    'LNDNBDE': 317,\n",
    "    'WLOE': 166,\n",
    "    'ECROYDN': 147,\n",
    "    'CRKLWD': 147,\n",
    "    'STKP': 147,\n",
    "    # ...\n",
    "}\n",
    "\n",
    "platform_counts = {\n",
    "    '2': 12802,\n",
    "    '1': 12575,\n",
    "    '3': 2946,\n",
    "    '4': 2005,\n",
    "    '5': 709,\n",
    "    # ...\n",
    "}\n",
    "\n",
    "# Bar plot for 'update_origin'\n",
    "plt.figure(figsize=(10, 6))\n",
    "sns.barplot(x=list(update_origin_counts.keys()), y=list(update_origin_counts.values()))\n",
    "plt.xlabel('Update Origin')\n",
    "plt.ylabel('Count')\n",
    "plt.title('Frequency of Update Origin')\n",
    "plt.xticks(rotation=45, ha='right')\n",
    "plt.show()\n"
   ]
  },
  {
   "cell_type": "code",
   "execution_count": 18,
   "id": "841efe8a",
   "metadata": {},
   "outputs": [
    {
     "data": {
      "image/png": "[encoded data removed]",
      "text/plain": [
       "<Figure size 800x800 with 1 Axes>"
      ]
     },
     "metadata": {},
     "output_type": "display_data"
    }
   ],
   "source": [
    "# Pie chart for 'train_platform'\n",
    "plt.figure(figsize=(8, 8))\n",
    "plt.pie(list(train_platform_counts.values()), labels=list(train_platform_counts.keys()), autopct='%1.1f%%')\n",
    "plt.title('Proportion of Train Platforms')\n",
    "plt.show()\n"
   ]
  },
  {
   "cell_type": "code",
   "execution_count": 22,
   "id": "a9c48faa",
   "metadata": {
    "scrolled": true
   },
   "outputs": [
    {
     "name": "stdout",
     "output_type": "stream",
     "text": [
      "Missing values in each column:\n",
      "route_id                      0\n",
      "unique_id                     0\n",
      "service_start_date            0\n",
      "update_origin               585\n",
      "train_platform                0\n",
      "working_time_pass         37100\n",
      "working_time_arrival          0\n",
      "working_time_departure        0\n",
      "planned_time_arrival       3245\n",
      "planned_time_departure     3520\n",
      "pass                      37100\n",
      "platform                   2986\n",
      "train_length              26505\n",
      "actual_arrival_time        5331\n",
      "actual_departure_time      2716\n",
      "is_delayed_arrival            0\n",
      "is_delayed_departure          0\n",
      "dtype: int64\n",
      "\n",
      "Percentage of missing values in each column:\n",
      "route_id                    0.000000\n",
      "unique_id                   0.000000\n",
      "service_start_date          0.000000\n",
      "update_origin               1.576819\n",
      "train_platform              0.000000\n",
      "working_time_pass         100.000000\n",
      "working_time_arrival        0.000000\n",
      "working_time_departure      0.000000\n",
      "planned_time_arrival        8.746631\n",
      "planned_time_departure      9.487871\n",
      "pass                      100.000000\n",
      "platform                    8.048518\n",
      "train_length               71.442049\n",
      "actual_arrival_time        14.369272\n",
      "actual_departure_time       7.320755\n",
      "is_delayed_arrival          0.000000\n",
      "is_delayed_departure        0.000000\n",
      "dtype: float64\n"
     ]
    }
   ],
   "source": [
    "\n",
    "\n",
    "# Check for missing values in each column\n",
    "missing_values = df.isnull().sum()\n",
    "\n",
    "# Display the total number of missing values in each column\n",
    "print(\"Missing values in each column:\")\n",
    "print(missing_values)\n",
    "\n",
    "# If you want to see the percentage of missing values in each column:\n",
    "total_rows = df.shape[0]\n",
    "percentage_missing = (missing_values / total_rows) * 100\n",
    "\n",
    "print(\"\\nPercentage of missing values in each column:\")\n",
    "print(percentage_missing)\n"
   ]
  },
  {
   "cell_type": "markdown",
   "id": "f9cd170b",
   "metadata": {},
   "source": [
    "## Connected from PostAdmin to AWS +\n",
    "## Setting up pipeline - Tomorrow / Monday \n",
    "## More EDA - The whole time\n",
    "## Docker-compose file -  Tomorrow / Monday\n",
    "## Created an account for API +\n",
    "## Make a commit to see if we run into issues +"
   ]
  },
  {
   "cell_type": "code",
   "execution_count": 23,
   "id": "52d3b8a0",
   "metadata": {},
   "outputs": [
    {
     "name": "stdout",
     "output_type": "stream",
     "text": [
      "train_platform\n",
      "LNDNBDE    317\n",
      "WLOE       166\n",
      "ECROYDN    147\n",
      "STKP       147\n",
      "CRKLWD     147\n",
      "VAUXHLM    132\n",
      "RDNGSTN    123\n",
      "CLPHMJM    119\n",
      "GTWK       118\n",
      "BLFR       117\n",
      "Name: count, dtype: int64\n"
     ]
    }
   ],
   "source": [
    "station_visits = df['train_platform'].value_counts()\n",
    "\n",
    "# Sort the stations based on visit counts in descending order\n",
    "sorted_stations = station_visits.sort_values(ascending=False)\n",
    "\n",
    "# Select the top 10 stations with the highest visit counts\n",
    "top_10_stations = sorted_stations.head(10)\n",
    "\n",
    "print(top_10_stations)"
   ]
  },
  {
   "cell_type": "code",
   "execution_count": 34,
   "id": "b533337a",
   "metadata": {},
   "outputs": [
    {
     "name": "stdout",
     "output_type": "stream",
     "text": [
      "8       NaT\n",
      "10      NaT\n",
      "16      NaT\n",
      "17      NaT\n",
      "22      NaT\n",
      "         ..\n",
      "94233   NaT\n",
      "94235   NaT\n",
      "94238   NaT\n",
      "94240   NaT\n",
      "94243   NaT\n",
      "Name: working_time_pass, Length: 37100, dtype: datetime64[ns]\n"
     ]
    }
   ],
   "source": [
    "print(df['working_time_pass'])"
   ]
  },
  {
   "cell_type": "code",
   "execution_count": 35,
   "id": "02d644ab",
   "metadata": {},
   "outputs": [
    {
     "name": "stdout",
     "output_type": "stream",
     "text": [
      "8       2023-07-27 00:03:00\n",
      "10      2023-07-27 00:07:00\n",
      "16      2023-07-27 00:30:30\n",
      "17      2023-07-27 00:33:00\n",
      "22      2023-07-27 21:53:00\n",
      "                ...        \n",
      "94233   2023-07-27 17:30:30\n",
      "94235   2023-07-27 17:44:00\n",
      "94238   2023-07-27 17:58:30\n",
      "94240   2023-07-27 18:08:30\n",
      "94243   2023-07-27 18:18:30\n",
      "Name: working_time_arrival, Length: 37100, dtype: datetime64[ns]\n"
     ]
    }
   ],
   "source": [
    "print(df['working_time_arrival'])"
   ]
  },
  {
   "cell_type": "code",
   "execution_count": 37,
   "id": "08b5f97d",
   "metadata": {},
   "outputs": [
    {
     "name": "stdout",
     "output_type": "stream",
     "text": [
      "8                       NaT\n",
      "10                      NaT\n",
      "16                      NaT\n",
      "17                      NaT\n",
      "22      2023-07-27 21:53:00\n",
      "                ...        \n",
      "94233   2023-07-27 17:31:00\n",
      "94235   2023-07-27 17:44:00\n",
      "94238   2023-07-27 17:59:00\n",
      "94240   2023-07-27 18:09:00\n",
      "94243   2023-07-27 18:19:00\n",
      "Name: planned_time_arrival, Length: 37100, dtype: datetime64[ns]\n"
     ]
    }
   ],
   "source": [
    "print(df['planned_time_arrival'])"
   ]
  },
  {
   "cell_type": "code",
   "execution_count": 39,
   "id": "0f750adb",
   "metadata": {},
   "outputs": [
    {
     "name": "stdout",
     "output_type": "stream",
     "text": [
      "8       2023-07-27 00:53:00\n",
      "10      2023-07-27 00:57:00\n",
      "16      2023-07-27 01:07:00\n",
      "17      2023-07-27 01:09:00\n",
      "22                      NaT\n",
      "                ...        \n",
      "94233   2023-07-27 18:07:00\n",
      "94235   2023-07-27 18:18:00\n",
      "94238   2023-07-27 18:29:00\n",
      "94240   2023-07-27 18:35:00\n",
      "94243   2023-07-27 18:44:00\n",
      "Name: actual_arrival_time, Length: 37100, dtype: datetime64[ns]\n"
     ]
    }
   ],
   "source": [
    "print(df['actual_arrival_time'])"
   ]
  },
  {
   "cell_type": "code",
   "execution_count": 40,
   "id": "39ad9595",
   "metadata": {},
   "outputs": [
    {
     "name": "stdout",
     "output_type": "stream",
     "text": [
      "8       2023-07-27 00:53:00\n",
      "10      2023-07-27 00:58:00\n",
      "16      2023-07-27 01:07:00\n",
      "17      2023-07-27 01:10:00\n",
      "22                      NaT\n",
      "                ...        \n",
      "94233   2023-07-27 18:08:00\n",
      "94235   2023-07-27 18:19:00\n",
      "94238   2023-07-27 18:30:00\n",
      "94240   2023-07-27 18:35:00\n",
      "94243   2023-07-27 18:45:00\n",
      "Name: actual_departure_time, Length: 37100, dtype: datetime64[ns]\n"
     ]
    }
   ],
   "source": [
    "print(df['actual_departure_time'])"
   ]
  },
  {
   "cell_type": "code",
   "execution_count": 43,
   "id": "87c9f3c9",
   "metadata": {},
   "outputs": [
    {
     "name": "stderr",
     "output_type": "stream",
     "text": [
      "C:\\Users\\andre\\AppData\\Local\\Temp\\ipykernel_2348\\687118461.py:5: UserWarning: Could not infer format, so each element will be parsed individually, falling back to `dateutil`. To ensure parsing is consistent and as-expected, please specify a format.\n",
      "  df['actual_departure_time'] = pd.to_datetime(df['actual_departure_time'])\n"
     ]
    },
    {
     "name": "stdout",
     "output_type": "stream",
     "text": [
      "8        2023-08-03 12:53:00 AM\n",
      "10       2023-08-03 12:58:00 AM\n",
      "16       2023-08-03 01:07:00 AM\n",
      "17       2023-08-03 01:10:00 AM\n",
      "22                          NaN\n",
      "                  ...          \n",
      "94233    2023-08-03 06:08:00 PM\n",
      "94235    2023-08-03 06:19:00 PM\n",
      "94238    2023-08-03 06:30:00 PM\n",
      "94240    2023-08-03 06:35:00 PM\n",
      "94243    2023-08-03 06:45:00 PM\n",
      "Name: formatted_departure_time, Length: 37100, dtype: object\n"
     ]
    }
   ],
   "source": [
    "\n",
    "\n",
    "df['actual_departure_time'] = pd.to_datetime(df['actual_departure_time'])\n",
    "\n",
    "# Define the desired 12-hour clock format with AM/PM indicators\n",
    "time_format_12h = \"%I:%M:%S %p\"\n",
    "\n",
    "# Format the 'actual_departure_time' column to 12-hour clock format\n",
    "formatted_time = df['actual_departure_time'].dt.strftime(time_format_12h)\n",
    "\n",
    "# Concatenate the date and time to get the final result\n",
    "df['formatted_departure_time'] = df['actual_departure_time'].dt.strftime(\"%Y-%m-%d\") + \" \" + formatted_time\n",
    "\n",
    "# Display the DataFrame with the formatted date and time\n",
    "print(df['formatted_departure_time'])\n",
    "\n"
   ]
  },
  {
   "cell_type": "code",
   "execution_count": 47,
   "id": "6aa91e63",
   "metadata": {},
   "outputs": [
    {
     "data": {
      "text/html": [
       "<div>\n",
       "<style scoped>\n",
       "    .dataframe tbody tr th:only-of-type {\n",
       "        vertical-align: middle;\n",
       "    }\n",
       "\n",
       "    .dataframe tbody tr th {\n",
       "        vertical-align: top;\n",
       "    }\n",
       "\n",
       "    .dataframe thead th {\n",
       "        text-align: right;\n",
       "    }\n",
       "</style>\n",
       "<table border=\"1\" class=\"dataframe\">\n",
       "  <thead>\n",
       "    <tr style=\"text-align: right;\">\n",
       "      <th></th>\n",
       "      <th>AtcoCode</th>\n",
       "      <th>TiplocCode</th>\n",
       "      <th>CrsCode</th>\n",
       "      <th>StationName</th>\n",
       "      <th>StationNameLang</th>\n",
       "      <th>GridType</th>\n",
       "      <th>Easting</th>\n",
       "      <th>Northing</th>\n",
       "      <th>CreationDateTime</th>\n",
       "      <th>ModificationDateTime</th>\n",
       "      <th>RevisionNumber</th>\n",
       "      <th>Modification</th>\n",
       "    </tr>\n",
       "  </thead>\n",
       "  <tbody>\n",
       "    <tr>\n",
       "      <th>0</th>\n",
       "      <td>9100PENZNCE</td>\n",
       "      <td>PENZNCE</td>\n",
       "      <td>PNZ</td>\n",
       "      <td>Penzance Rail Station</td>\n",
       "      <td>NaN</td>\n",
       "      <td>U</td>\n",
       "      <td>147588</td>\n",
       "      <td>30599</td>\n",
       "      <td>2003-11-04T00:00:00</td>\n",
       "      <td>2011-09-30T14:47:28</td>\n",
       "      <td>2</td>\n",
       "      <td>rev</td>\n",
       "    </tr>\n",
       "    <tr>\n",
       "      <th>1</th>\n",
       "      <td>9100STIVES</td>\n",
       "      <td>STIVES</td>\n",
       "      <td>SIV</td>\n",
       "      <td>St Ives (Cornwall) Rail Station</td>\n",
       "      <td>NaN</td>\n",
       "      <td>U</td>\n",
       "      <td>151947</td>\n",
       "      <td>40127</td>\n",
       "      <td>2005-04-04T00:00:00</td>\n",
       "      <td>2011-09-30T14:47:28</td>\n",
       "      <td>4</td>\n",
       "      <td>rev</td>\n",
       "    </tr>\n",
       "    <tr>\n",
       "      <th>2</th>\n",
       "      <td>9100CARBISB</td>\n",
       "      <td>CARBISB</td>\n",
       "      <td>CBB</td>\n",
       "      <td>Carbis Bay Rail Station</td>\n",
       "      <td>NaN</td>\n",
       "      <td>U</td>\n",
       "      <td>152930</td>\n",
       "      <td>38745</td>\n",
       "      <td>2003-11-04T00:00:00</td>\n",
       "      <td>2011-09-30T14:47:28</td>\n",
       "      <td>5</td>\n",
       "      <td>rev</td>\n",
       "    </tr>\n",
       "    <tr>\n",
       "      <th>3</th>\n",
       "      <td>9100STERTH</td>\n",
       "      <td>STERTH</td>\n",
       "      <td>SER</td>\n",
       "      <td>St Erth Rail Station</td>\n",
       "      <td>NaN</td>\n",
       "      <td>U</td>\n",
       "      <td>154150</td>\n",
       "      <td>35730</td>\n",
       "      <td>2003-11-04T00:00:00</td>\n",
       "      <td>2007-02-13T17:06:21</td>\n",
       "      <td>3</td>\n",
       "      <td>rev</td>\n",
       "    </tr>\n",
       "    <tr>\n",
       "      <th>4</th>\n",
       "      <td>9100LELANTS</td>\n",
       "      <td>LELANTS</td>\n",
       "      <td>LTS</td>\n",
       "      <td>Lelant Saltings Rail Station</td>\n",
       "      <td>NaN</td>\n",
       "      <td>U</td>\n",
       "      <td>154430</td>\n",
       "      <td>36640</td>\n",
       "      <td>2003-11-04T00:00:00</td>\n",
       "      <td>2011-09-30T14:47:28</td>\n",
       "      <td>2</td>\n",
       "      <td>rev</td>\n",
       "    </tr>\n",
       "  </tbody>\n",
       "</table>\n",
       "</div>"
      ],
      "text/plain": [
       "      AtcoCode TiplocCode CrsCode                      StationName   \n",
       "0  9100PENZNCE    PENZNCE     PNZ            Penzance Rail Station  \\\n",
       "1   9100STIVES     STIVES     SIV  St Ives (Cornwall) Rail Station   \n",
       "2  9100CARBISB    CARBISB     CBB          Carbis Bay Rail Station   \n",
       "3   9100STERTH     STERTH     SER             St Erth Rail Station   \n",
       "4  9100LELANTS    LELANTS     LTS     Lelant Saltings Rail Station   \n",
       "\n",
       "   StationNameLang GridType  Easting  Northing     CreationDateTime   \n",
       "0              NaN        U   147588     30599  2003-11-04T00:00:00  \\\n",
       "1              NaN        U   151947     40127  2005-04-04T00:00:00   \n",
       "2              NaN        U   152930     38745  2003-11-04T00:00:00   \n",
       "3              NaN        U   154150     35730  2003-11-04T00:00:00   \n",
       "4              NaN        U   154430     36640  2003-11-04T00:00:00   \n",
       "\n",
       "  ModificationDateTime  RevisionNumber Modification  \n",
       "0  2011-09-30T14:47:28               2          rev  \n",
       "1  2011-09-30T14:47:28               4          rev  \n",
       "2  2011-09-30T14:47:28               5          rev  \n",
       "3  2007-02-13T17:06:21               3          rev  \n",
       "4  2011-09-30T14:47:28               2          rev  "
      ]
     },
     "execution_count": 47,
     "metadata": {},
     "output_type": "execute_result"
    }
   ],
   "source": [
    "df_csv = pd.read_csv('/Users/andre/github-classroom/RailReferences.csv')\n",
    "df_csv.head()"
   ]
  },
  {
   "cell_type": "code",
   "execution_count": 48,
   "id": "66a8fa81",
   "metadata": {},
   "outputs": [
    {
     "data": {
      "text/html": [
       "<div>\n",
       "<style scoped>\n",
       "    .dataframe tbody tr th:only-of-type {\n",
       "        vertical-align: middle;\n",
       "    }\n",
       "\n",
       "    .dataframe tbody tr th {\n",
       "        vertical-align: top;\n",
       "    }\n",
       "\n",
       "    .dataframe thead th {\n",
       "        text-align: right;\n",
       "    }\n",
       "</style>\n",
       "<table border=\"1\" class=\"dataframe\">\n",
       "  <thead>\n",
       "    <tr style=\"text-align: right;\">\n",
       "      <th></th>\n",
       "      <th>route_id</th>\n",
       "      <th>unique_id</th>\n",
       "      <th>service_start_date</th>\n",
       "      <th>update_origin</th>\n",
       "      <th>train_platform</th>\n",
       "      <th>working_time_pass</th>\n",
       "      <th>working_time_arrival</th>\n",
       "      <th>working_time_departure</th>\n",
       "      <th>planned_time_arrival</th>\n",
       "      <th>planned_time_departure</th>\n",
       "      <th>pass</th>\n",
       "      <th>platform</th>\n",
       "      <th>train_length</th>\n",
       "      <th>actual_arrival_time</th>\n",
       "      <th>actual_departure_time</th>\n",
       "      <th>is_delayed_arrival</th>\n",
       "      <th>is_delayed_departure</th>\n",
       "    </tr>\n",
       "  </thead>\n",
       "  <tbody>\n",
       "    <tr>\n",
       "      <th>8</th>\n",
       "      <td>202307277679020</td>\n",
       "      <td>L79020</td>\n",
       "      <td>2023-07-27</td>\n",
       "      <td>Darwin</td>\n",
       "      <td>STFD</td>\n",
       "      <td>NaT</td>\n",
       "      <td>2023-07-27 00:03:00</td>\n",
       "      <td>2023-07-27 00:03:30</td>\n",
       "      <td>NaT</td>\n",
       "      <td>NaT</td>\n",
       "      <td>NaN</td>\n",
       "      <td>5</td>\n",
       "      <td>None</td>\n",
       "      <td>2023-07-27 00:53:00</td>\n",
       "      <td>2023-07-27 00:53:00</td>\n",
       "      <td>True</td>\n",
       "      <td>True</td>\n",
       "    </tr>\n",
       "    <tr>\n",
       "      <th>10</th>\n",
       "      <td>202307277679020</td>\n",
       "      <td>L79020</td>\n",
       "      <td>2023-07-27</td>\n",
       "      <td>Darwin</td>\n",
       "      <td>SPNY205</td>\n",
       "      <td>NaT</td>\n",
       "      <td>2023-07-27 00:07:00</td>\n",
       "      <td>2023-07-27 00:13:30</td>\n",
       "      <td>NaT</td>\n",
       "      <td>NaT</td>\n",
       "      <td>NaN</td>\n",
       "      <td>None</td>\n",
       "      <td>None</td>\n",
       "      <td>2023-07-27 00:57:00</td>\n",
       "      <td>2023-07-27 00:58:00</td>\n",
       "      <td>True</td>\n",
       "      <td>True</td>\n",
       "    </tr>\n",
       "    <tr>\n",
       "      <th>16</th>\n",
       "      <td>202307277679020</td>\n",
       "      <td>L79020</td>\n",
       "      <td>2023-07-27</td>\n",
       "      <td>Darwin</td>\n",
       "      <td>PADTLL</td>\n",
       "      <td>NaT</td>\n",
       "      <td>2023-07-27 00:30:30</td>\n",
       "      <td>2023-07-27 00:31:00</td>\n",
       "      <td>NaT</td>\n",
       "      <td>NaT</td>\n",
       "      <td>NaN</td>\n",
       "      <td>B</td>\n",
       "      <td>None</td>\n",
       "      <td>2023-07-27 01:07:00</td>\n",
       "      <td>2023-07-27 01:07:00</td>\n",
       "      <td>True</td>\n",
       "      <td>True</td>\n",
       "    </tr>\n",
       "    <tr>\n",
       "      <th>17</th>\n",
       "      <td>202307277679020</td>\n",
       "      <td>L79020</td>\n",
       "      <td>2023-07-27</td>\n",
       "      <td>Darwin</td>\n",
       "      <td>WBRNPKS</td>\n",
       "      <td>NaT</td>\n",
       "      <td>2023-07-27 00:33:00</td>\n",
       "      <td>2023-07-27 00:35:00</td>\n",
       "      <td>NaT</td>\n",
       "      <td>NaT</td>\n",
       "      <td>NaN</td>\n",
       "      <td>A</td>\n",
       "      <td>None</td>\n",
       "      <td>2023-07-27 01:09:00</td>\n",
       "      <td>2023-07-27 01:10:00</td>\n",
       "      <td>True</td>\n",
       "      <td>True</td>\n",
       "    </tr>\n",
       "    <tr>\n",
       "      <th>22</th>\n",
       "      <td>202307277674553</td>\n",
       "      <td>L74553</td>\n",
       "      <td>2023-07-27</td>\n",
       "      <td>TD</td>\n",
       "      <td>SVNOAKS</td>\n",
       "      <td>NaT</td>\n",
       "      <td>2023-07-27 21:53:00</td>\n",
       "      <td>2023-07-27 21:54:30</td>\n",
       "      <td>2023-07-27 21:53:00</td>\n",
       "      <td>2023-07-27 21:54:00</td>\n",
       "      <td>NaN</td>\n",
       "      <td>1</td>\n",
       "      <td>8</td>\n",
       "      <td>NaT</td>\n",
       "      <td>NaT</td>\n",
       "      <td>False</td>\n",
       "      <td>False</td>\n",
       "    </tr>\n",
       "  </tbody>\n",
       "</table>\n",
       "</div>"
      ],
      "text/plain": [
       "           route_id unique_id service_start_date update_origin train_platform   \n",
       "8   202307277679020    L79020         2023-07-27        Darwin           STFD  \\\n",
       "10  202307277679020    L79020         2023-07-27        Darwin        SPNY205   \n",
       "16  202307277679020    L79020         2023-07-27        Darwin         PADTLL   \n",
       "17  202307277679020    L79020         2023-07-27        Darwin        WBRNPKS   \n",
       "22  202307277674553    L74553         2023-07-27            TD        SVNOAKS   \n",
       "\n",
       "   working_time_pass working_time_arrival working_time_departure   \n",
       "8                NaT  2023-07-27 00:03:00    2023-07-27 00:03:30  \\\n",
       "10               NaT  2023-07-27 00:07:00    2023-07-27 00:13:30   \n",
       "16               NaT  2023-07-27 00:30:30    2023-07-27 00:31:00   \n",
       "17               NaT  2023-07-27 00:33:00    2023-07-27 00:35:00   \n",
       "22               NaT  2023-07-27 21:53:00    2023-07-27 21:54:30   \n",
       "\n",
       "   planned_time_arrival planned_time_departure  pass platform train_length   \n",
       "8                   NaT                    NaT   NaN        5         None  \\\n",
       "10                  NaT                    NaT   NaN     None         None   \n",
       "16                  NaT                    NaT   NaN        B         None   \n",
       "17                  NaT                    NaT   NaN        A         None   \n",
       "22  2023-07-27 21:53:00    2023-07-27 21:54:00   NaN        1            8   \n",
       "\n",
       "   actual_arrival_time actual_departure_time  is_delayed_arrival   \n",
       "8  2023-07-27 00:53:00   2023-07-27 00:53:00                True  \\\n",
       "10 2023-07-27 00:57:00   2023-07-27 00:58:00                True   \n",
       "16 2023-07-27 01:07:00   2023-07-27 01:07:00                True   \n",
       "17 2023-07-27 01:09:00   2023-07-27 01:10:00                True   \n",
       "22                 NaT                   NaT               False   \n",
       "\n",
       "    is_delayed_departure  \n",
       "8                   True  \n",
       "10                  True  \n",
       "16                  True  \n",
       "17                  True  \n",
       "22                 False  "
      ]
     },
     "execution_count": 48,
     "metadata": {},
     "output_type": "execute_result"
    }
   ],
   "source": [
    "df.head()"
   ]
  },
  {
   "cell_type": "code",
   "execution_count": 52,
   "id": "8d4cf9d8",
   "metadata": {},
   "outputs": [
    {
     "data": {
      "text/html": [
       "<div>\n",
       "<style scoped>\n",
       "    .dataframe tbody tr th:only-of-type {\n",
       "        vertical-align: middle;\n",
       "    }\n",
       "\n",
       "    .dataframe tbody tr th {\n",
       "        vertical-align: top;\n",
       "    }\n",
       "\n",
       "    .dataframe thead th {\n",
       "        text-align: right;\n",
       "    }\n",
       "</style>\n",
       "<table border=\"1\" class=\"dataframe\">\n",
       "  <thead>\n",
       "    <tr style=\"text-align: right;\">\n",
       "      <th></th>\n",
       "      <th>AtcoCode</th>\n",
       "      <th>TiplocCode</th>\n",
       "      <th>CrsCode</th>\n",
       "      <th>StationName</th>\n",
       "      <th>StationNameLang</th>\n",
       "      <th>GridType</th>\n",
       "      <th>Easting</th>\n",
       "      <th>Northing</th>\n",
       "      <th>CreationDateTime</th>\n",
       "      <th>ModificationDateTime</th>\n",
       "      <th>RevisionNumber</th>\n",
       "      <th>Modification</th>\n",
       "    </tr>\n",
       "  </thead>\n",
       "  <tbody>\n",
       "  </tbody>\n",
       "</table>\n",
       "</div>"
      ],
      "text/plain": [
       "Empty DataFrame\n",
       "Columns: [AtcoCode, TiplocCode, CrsCode, StationName, StationNameLang, GridType, Easting, Northing, CreationDateTime, ModificationDateTime, RevisionNumber, Modification]\n",
       "Index: []"
      ]
     },
     "execution_count": 52,
     "metadata": {},
     "output_type": "execute_result"
    }
   ],
   "source": [
    "df_csv.loc[df_csv['CrsCode']=='STFD']"
   ]
  },
  {
   "cell_type": "code",
   "execution_count": 56,
   "id": "f0d49a41",
   "metadata": {},
   "outputs": [
    {
     "name": "stdout",
     "output_type": "stream",
     "text": [
      "AtcoCode                 object\n",
      "TiplocCode               object\n",
      "CrsCode                  object\n",
      "StationName              object\n",
      "StationNameLang         float64\n",
      "GridType                 object\n",
      "Easting                   int64\n",
      "Northing                  int64\n",
      "CreationDateTime         object\n",
      "ModificationDateTime     object\n",
      "RevisionNumber            int64\n",
      "Modification             object\n",
      "dtype: object\n"
     ]
    }
   ],
   "source": [
    "print(df_csv.dtypes)\n"
   ]
  },
  {
   "cell_type": "code",
   "execution_count": null,
   "id": "2418276c",
   "metadata": {},
   "outputs": [],
   "source": []
  },
  {
   "cell_type": "code",
   "execution_count": 59,
   "id": "31b48d70",
   "metadata": {},
   "outputs": [
    {
     "name": "stdout",
     "output_type": "stream",
     "text": [
      "           route_id unique_id service_start_date update_origin train_platform   \n",
      "8   202307277679020    L79020         2023-07-27        Darwin           STFD  \\\n",
      "10  202307277679020    L79020         2023-07-27        Darwin        SPNY205   \n",
      "16  202307277679020    L79020         2023-07-27        Darwin         PADTLL   \n",
      "17  202307277679020    L79020         2023-07-27        Darwin        WBRNPKS   \n",
      "22  202307277674553    L74553         2023-07-27            TD        SVNOAKS   \n",
      "\n",
      "   working_time_pass working_time_arrival working_time_departure   \n",
      "8                NaT  2023-07-27 00:03:00    2023-07-27 00:03:30  \\\n",
      "10               NaT  2023-07-27 00:07:00    2023-07-27 00:13:30   \n",
      "16               NaT  2023-07-27 00:30:30    2023-07-27 00:31:00   \n",
      "17               NaT  2023-07-27 00:33:00    2023-07-27 00:35:00   \n",
      "22               NaT  2023-07-27 21:53:00    2023-07-27 21:54:30   \n",
      "\n",
      "   planned_time_arrival planned_time_departure  ...  CrsCode   \n",
      "8                   NaT                    NaT  ...      ARG  \\\n",
      "10                  NaT                    NaT  ...      MRR   \n",
      "16                  NaT                    NaT  ...      PYN   \n",
      "17                  NaT                    NaT  ...      PRW   \n",
      "22  2023-07-27 21:53:00    2023-07-27 21:54:00  ...      NQY   \n",
      "\n",
      "                StationName StationNameLang GridType   Easting  Northing   \n",
      "8      Arisaig Rail Station             NaN        U  166400.0  786700.0  \\\n",
      "10       Morar Rail Station             NaN        U  167800.0  793000.0   \n",
      "16      Penryn Rail Station             NaN        U  177900.0   34710.0   \n",
      "17  Perranwell Rail Station             NaN        U  178080.0   39810.0   \n",
      "22     Newquay Rail Station             NaN        U  181590.0   61770.0   \n",
      "\n",
      "       CreationDateTime ModificationDateTime RevisionNumber Modification  \n",
      "8   2003-11-04T00:00:00  2006-09-18T18:24:34            1.0          rev  \n",
      "10  2003-11-04T00:00:00  2006-09-18T18:24:34            1.0          rev  \n",
      "16  2005-04-04T00:00:00  2011-09-30T14:47:28            2.0          rev  \n",
      "17  2003-11-04T00:00:00  2011-09-30T14:47:28            2.0          rev  \n",
      "22  2003-11-04T00:00:00  2007-02-13T17:06:21            2.0          rev  \n",
      "\n",
      "[5 rows x 29 columns]\n"
     ]
    }
   ],
   "source": [
    "\n",
    "merged_df = df.join(df_csv, lsuffix='actual_arrival_time', rsuffix='CreationDateTime', how='left')\n",
    "print(merged_df.head())"
   ]
  },
  {
   "cell_type": "code",
   "execution_count": 60,
   "id": "596c1d32",
   "metadata": {},
   "outputs": [
    {
     "data": {
      "text/html": [
       "<div>\n",
       "<style scoped>\n",
       "    .dataframe tbody tr th:only-of-type {\n",
       "        vertical-align: middle;\n",
       "    }\n",
       "\n",
       "    .dataframe tbody tr th {\n",
       "        vertical-align: top;\n",
       "    }\n",
       "\n",
       "    .dataframe thead th {\n",
       "        text-align: right;\n",
       "    }\n",
       "</style>\n",
       "<table border=\"1\" class=\"dataframe\">\n",
       "  <thead>\n",
       "    <tr style=\"text-align: right;\">\n",
       "      <th></th>\n",
       "      <th>StationName</th>\n",
       "      <th>train_platform</th>\n",
       "    </tr>\n",
       "  </thead>\n",
       "  <tbody>\n",
       "    <tr>\n",
       "      <th>8</th>\n",
       "      <td>Arisaig Rail Station</td>\n",
       "      <td>STFD</td>\n",
       "    </tr>\n",
       "    <tr>\n",
       "      <th>10</th>\n",
       "      <td>Morar Rail Station</td>\n",
       "      <td>SPNY205</td>\n",
       "    </tr>\n",
       "    <tr>\n",
       "      <th>16</th>\n",
       "      <td>Penryn Rail Station</td>\n",
       "      <td>PADTLL</td>\n",
       "    </tr>\n",
       "    <tr>\n",
       "      <th>17</th>\n",
       "      <td>Perranwell Rail Station</td>\n",
       "      <td>WBRNPKS</td>\n",
       "    </tr>\n",
       "    <tr>\n",
       "      <th>22</th>\n",
       "      <td>Newquay Rail Station</td>\n",
       "      <td>SVNOAKS</td>\n",
       "    </tr>\n",
       "  </tbody>\n",
       "</table>\n",
       "</div>"
      ],
      "text/plain": [
       "                StationName train_platform\n",
       "8      Arisaig Rail Station           STFD\n",
       "10       Morar Rail Station        SPNY205\n",
       "16      Penryn Rail Station         PADTLL\n",
       "17  Perranwell Rail Station        WBRNPKS\n",
       "22     Newquay Rail Station        SVNOAKS"
      ]
     },
     "execution_count": 60,
     "metadata": {},
     "output_type": "execute_result"
    }
   ],
   "source": [
    "merged_df[['StationName','train_platform']].head()"
   ]
  },
  {
   "cell_type": "code",
   "execution_count": 62,
   "id": "b17a700c",
   "metadata": {},
   "outputs": [
    {
     "name": "stdout",
     "output_type": "stream",
     "text": [
      "StationName\n",
      "Watford Junction Rail Station        2\n",
      "Harrow & Wealdstone Rail Station     2\n",
      "Stourbridge Junction Rail Station    2\n",
      "Bishop Auckland Rail Station         2\n",
      "Upminster Rail Station               2\n",
      "Name: count, dtype: int64\n"
     ]
    }
   ],
   "source": [
    "station_visits = merged_df['StationName'].value_counts()\n",
    "\n",
    "# Sort the stations based on visit counts in descending order\n",
    "sorted_stations = station_visits.sort_values(ascending=False)\n",
    "\n",
    "# Select the top 10 stations with the highest visit counts\n",
    "top_10_stations = sorted_stations.head()\n",
    "\n",
    "print(top_10_stations)"
   ]
  },
  {
   "cell_type": "code",
   "execution_count": null,
   "id": "bfaef4b7",
   "metadata": {},
   "outputs": [],
   "source": []
  }
 ],
 "metadata": {
  "kernelspec": {
   "display_name": "Python 3 (ipykernel)",
   "language": "python",
   "name": "python3"
  },
  "language_info": {
   "codemirror_mode": {
    "name": "ipython",
    "version": 3
   },
   "file_extension": ".py",
   "mimetype": "text/x-python",
   "name": "python",
   "nbconvert_exporter": "python",
   "pygments_lexer": "ipython3",
   "version": "3.9.13"
  }
 },
 "nbformat": 4,
 "nbformat_minor": 5
}
