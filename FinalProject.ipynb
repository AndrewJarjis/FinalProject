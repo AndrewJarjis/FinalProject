{
 "cells": [
  {
   "cell_type": "code",
   "execution_count": null,
   "id": "96b07ade",
   "metadata": {
    "is_executing": true
   },
   "outputs": [],
   "source": [
    "import pandas as pd\n",
    "import matplotlib.pyplot as plt\n",
    "import seaborn as sns\n",
    "\n",
    "# Load the data from the Parquet file\n",
    "data_file_parquet = '/Users/andre/github-classroom/rail_data_cleaned_20230728132300.parquet'\n",
    "df = pd.read_parquet(data_file_parquet)\n",
    "\n",
    "\n",
    "# Summary statistics of the dataset\n",
    "print(df.describe())\n",
    "\n",
    "\n",
    "\n"
   ]
  },
  {
   "cell_type": "code",
   "execution_count": 11,
   "id": "823455ce",
   "metadata": {},
   "outputs": [
    {
     "name": "stdout",
     "output_type": "stream",
     "text": [
      "           route_id unique_id service_start_date update_origin train_platform   \n",
      "8   202307277679020    L79020         2023-07-27        Darwin           STFD  \\\n",
      "10  202307277679020    L79020         2023-07-27        Darwin        SPNY205   \n",
      "16  202307277679020    L79020         2023-07-27        Darwin         PADTLL   \n",
      "17  202307277679020    L79020         2023-07-27        Darwin        WBRNPKS   \n",
      "22  202307277674553    L74553         2023-07-27            TD        SVNOAKS   \n",
      "\n",
      "   working_time_pass working_time_arrival working_time_departure   \n",
      "8                NaT  2023-07-27 00:03:00    2023-07-27 00:03:30  \\\n",
      "10               NaT  2023-07-27 00:07:00    2023-07-27 00:13:30   \n",
      "16               NaT  2023-07-27 00:30:30    2023-07-27 00:31:00   \n",
      "17               NaT  2023-07-27 00:33:00    2023-07-27 00:35:00   \n",
      "22               NaT  2023-07-27 21:53:00    2023-07-27 21:54:30   \n",
      "\n",
      "   planned_time_arrival planned_time_departure  pass platform train_length   \n",
      "8                   NaT                    NaT   NaN        5         None  \\\n",
      "10                  NaT                    NaT   NaN     None         None   \n",
      "16                  NaT                    NaT   NaN        B         None   \n",
      "17                  NaT                    NaT   NaN        A         None   \n",
      "22  2023-07-27 21:53:00    2023-07-27 21:54:00   NaN        1            8   \n",
      "\n",
      "   actual_arrival_time actual_departure_time  is_delayed_arrival   \n",
      "8  2023-07-27 00:53:00   2023-07-27 00:53:00                True  \\\n",
      "10 2023-07-27 00:57:00   2023-07-27 00:58:00                True   \n",
      "16 2023-07-27 01:07:00   2023-07-27 01:07:00                True   \n",
      "17 2023-07-27 01:09:00   2023-07-27 01:10:00                True   \n",
      "22                 NaT                   NaT               False   \n",
      "\n",
      "    is_delayed_departure  \n",
      "8                   True  \n",
      "10                  True  \n",
      "16                  True  \n",
      "17                  True  \n",
      "22                 False  \n"
     ]
    }
   ],
   "source": [
    "print(df.head())"
   ]
  },
  {
   "cell_type": "code",
   "execution_count": 12,
   "id": "4afef5ca",
   "metadata": {
    "scrolled": true
   },
   "outputs": [
    {
     "name": "stdout",
     "output_type": "stream",
     "text": [
      "route_id                      0\n",
      "unique_id                     0\n",
      "service_start_date            0\n",
      "update_origin               585\n",
      "train_platform                0\n",
      "working_time_pass         37100\n",
      "working_time_arrival          0\n",
      "working_time_departure        0\n",
      "planned_time_arrival       3245\n",
      "planned_time_departure     3520\n",
      "pass                      37100\n",
      "platform                   2986\n",
      "train_length              26505\n",
      "actual_arrival_time        5331\n",
      "actual_departure_time      2716\n",
      "is_delayed_arrival            0\n",
      "is_delayed_departure          0\n",
      "dtype: int64\n"
     ]
    }
   ],
   "source": [
    "# Check for missing values\n",
    "print(df.isnull().sum())\n"
   ]
  },
  {
   "cell_type": "code",
   "execution_count": 13,
   "id": "5d0e4921",
   "metadata": {},
   "outputs": [
    {
     "name": "stdout",
     "output_type": "stream",
     "text": [
      "route_id                          object\n",
      "unique_id                         object\n",
      "service_start_date                object\n",
      "update_origin                     object\n",
      "train_platform                    object\n",
      "working_time_pass         datetime64[ns]\n",
      "working_time_arrival      datetime64[ns]\n",
      "working_time_departure    datetime64[ns]\n",
      "planned_time_arrival      datetime64[ns]\n",
      "planned_time_departure    datetime64[ns]\n",
      "pass                             float64\n",
      "platform                          object\n",
      "train_length                      object\n",
      "actual_arrival_time       datetime64[ns]\n",
      "actual_departure_time     datetime64[ns]\n",
      "is_delayed_arrival                  bool\n",
      "is_delayed_departure                bool\n",
      "dtype: object\n"
     ]
    }
   ],
   "source": [
    "# Data types of columns\n",
    "print(df.dtypes)\n"
   ]
  },
  {
   "cell_type": "code",
   "execution_count": 14,
   "id": "aaefe15a",
   "metadata": {},
   "outputs": [
    {
     "name": "stdout",
     "output_type": "stream",
     "text": [
      "Unique values in update_origin: ['Darwin' 'TD' 'CIS' 'Trust' None 'Tyrell' 'Workstation']\n",
      "Unique values in train_platform: ['STFD' 'SPNY205' 'PADTLL' ... 'NEILTBS' 'THUSTON' 'PRKSTON']\n",
      "Unique values in platform: ['5' None 'B' 'A' '1' '8' '2' '4' '3' '10' 'CL' 'BUS' '6' '4A' '12B' '7'\n",
      " '7N' '0' '14' '3B' 'UDG' '9' 'SDG' '15' '13' '5B' 'HS' 'DTS' '12' '11'\n",
      " '15A' '12C' '4B' 'S1' '9C' '5A' '3A' 'DER' '10A' '17' '12A' '16' '6A'\n",
      " '11A' '1B' 'URS' '11B' '2B' 'D' 'RES' 'C' 'DTL' '15B' '1A' '1L' '9B' '2A'\n",
      " '19' '8D' '7B' 'UML' '9E' 'UDS' '8B' '6B' '7A' 'S4' 'TBC' '9A' 'EXE'\n",
      " 'SGL' 'DM' '16A' '11D' 'DOR' 'S3' '13B' 'TRU' '8A' '16B' 'GL1' '14A'\n",
      " 'DRL' 'DG' '14B' 'NEW' 'EXM' 'FAL' '2F' '6N' '1C' 'PLY' 'UPL' 'GUN']\n"
     ]
    }
   ],
   "source": [
    "# Explore unique values in categorical columns\n",
    "categorical_columns = ['update_origin', 'train_platform', 'platform']\n",
    "for col in categorical_columns:\n",
    "    print(f\"Unique values in {col}: {df[col].unique()}\")\n"
   ]
  },
  {
   "cell_type": "code",
   "execution_count": 15,
   "id": "fea920a1",
   "metadata": {},
   "outputs": [
    {
     "name": "stdout",
     "output_type": "stream",
     "text": [
      "update_origin\n",
      "CIS            14433\n",
      "TD             10576\n",
      "Darwin          8983\n",
      "Trust           2203\n",
      "Tyrell           292\n",
      "Workstation       28\n",
      "Name: count, dtype: int64\n",
      "train_platform\n",
      "LNDNBDE    317\n",
      "WLOE       166\n",
      "ECROYDN    147\n",
      "CRKLWD     147\n",
      "STKP       147\n",
      "          ... \n",
      "PRTSMTA      1\n",
      "CHAPLTN      1\n",
      "DIDCTNJ      1\n",
      "WANTRD       1\n",
      "PRKSTON      1\n",
      "Name: count, Length: 2603, dtype: int64\n",
      "platform\n",
      "2      12802\n",
      "1      12575\n",
      "3       2946\n",
      "4       2005\n",
      "5        709\n",
      "       ...  \n",
      "GL1        1\n",
      "16B        1\n",
      "9E         1\n",
      "TRU        1\n",
      "2B         1\n",
      "Name: count, Length: 93, dtype: int64\n"
     ]
    }
   ],
   "source": [
    "# Frequency count for 'update_origin'\n",
    "update_origin_counts = df['update_origin'].value_counts()\n",
    "print(update_origin_counts)\n",
    "\n",
    "# Frequency count for 'train_platform'\n",
    "train_platform_counts = df['train_platform'].value_counts()\n",
    "print(train_platform_counts)\n",
    "\n",
    "# Frequency count for 'platform'\n",
    "platform_counts = df['platform'].value_counts()\n",
    "print(platform_counts)\n"
   ]
  },
  {
   "cell_type": "code",
   "execution_count": 17,
   "id": "a7587c2a",
   "metadata": {},
   "outputs": [
    {
     "data": {
      "image/png": "[encoded data removed]",
      "text/plain": [
       "<Figure size 1000x600 with 1 Axes>"
      ]
     },
     "metadata": {},
     "output_type": "display_data"
    }
   ],
   "source": [
    "# Frequency count data\n",
    "update_origin_counts = {\n",
    "    'CIS': 14433,\n",
    "    'TD': 10576,\n",
    "    'Darwin': 8983,\n",
    "    'Trust': 2203,\n",
    "    'Tyrell': 292,\n",
    "    'Workstation': 28\n",
    "}\n",
    "\n",
    "train_platform_counts = {\n",
    "    'LNDNBDE': 317,\n",
    "    'WLOE': 166,\n",
    "    'ECROYDN': 147,\n",
    "    'CRKLWD': 147,\n",
    "    'STKP': 147,\n",
    "    # ...\n",
    "}\n",
    "\n",
    "platform_counts = {\n",
    "    '2': 12802,\n",
    "    '1': 12575,\n",
    "    '3': 2946,\n",
    "    '4': 2005,\n",
    "    '5': 709,\n",
    "    # ...\n",
    "}\n",
    "\n",
    "# Bar plot for 'update_origin'\n",
    "plt.figure(figsize=(10, 6))\n",
    "sns.barplot(x=list(update_origin_counts.keys()), y=list(update_origin_counts.values()))\n",
    "plt.xlabel('Update Origin')\n",
    "plt.ylabel('Count')\n",
    "plt.title('Frequency of Update Origin')\n",
    "plt.xticks(rotation=45, ha='right')\n",
    "plt.show()\n"
   ]
  },
  {
   "cell_type": "code",
   "execution_count": 18,
   "id": "f74bd4f5",
   "metadata": {},
   "outputs": [
    {
     "data": {
      "image/png": "[encoded data removed]",
      "text/plain": [
       "<Figure size 800x800 with 1 Axes>"
      ]
     },
     "metadata": {},
     "output_type": "display_data"
    }
   ],
   "source": [
    "# Pie chart for 'train_platform'\n",
    "plt.figure(figsize=(8, 8))\n",
    "plt.pie(list(train_platform_counts.values()), labels=list(train_platform_counts.keys()), autopct='%1.1f%%')\n",
    "plt.title('Proportion of Train Platforms')\n",
    "plt.show()\n"
   ]
  },
  {
   "cell_type": "code",
   "execution_count": 22,
   "id": "ac684963",
   "metadata": {
    "scrolled": true
   },
   "outputs": [
    {
     "name": "stdout",
     "output_type": "stream",
     "text": [
      "Missing values in each column:\n",
      "route_id                      0\n",
      "unique_id                     0\n",
      "service_start_date            0\n",
      "update_origin               585\n",
      "train_platform                0\n",
      "working_time_pass         37100\n",
      "working_time_arrival          0\n",
      "working_time_departure        0\n",
      "planned_time_arrival       3245\n",
      "planned_time_departure     3520\n",
      "pass                      37100\n",
      "platform                   2986\n",
      "train_length              26505\n",
      "actual_arrival_time        5331\n",
      "actual_departure_time      2716\n",
      "is_delayed_arrival            0\n",
      "is_delayed_departure          0\n",
      "dtype: int64\n",
      "\n",
      "Percentage of missing values in each column:\n",
      "route_id                    0.000000\n",
      "unique_id                   0.000000\n",
      "service_start_date          0.000000\n",
      "update_origin               1.576819\n",
      "train_platform              0.000000\n",
      "working_time_pass         100.000000\n",
      "working_time_arrival        0.000000\n",
      "working_time_departure      0.000000\n",
      "planned_time_arrival        8.746631\n",
      "planned_time_departure      9.487871\n",
      "pass                      100.000000\n",
      "platform                    8.048518\n",
      "train_length               71.442049\n",
      "actual_arrival_time        14.369272\n",
      "actual_departure_time       7.320755\n",
      "is_delayed_arrival          0.000000\n",
      "is_delayed_departure        0.000000\n",
      "dtype: float64\n"
     ]
    }
   ],
   "source": [
    "\n",
    "\n",
    "# Check for missing values in each column\n",
    "missing_values = df.isnull().sum()\n",
    "\n",
    "# Display the total number of missing values in each column\n",
    "print(\"Missing values in each column:\")\n",
    "print(missing_values)\n",
    "\n",
    "# If you want to see the percentage of missing values in each column:\n",
    "total_rows = df.shape[0]\n",
    "percentage_missing = (missing_values / total_rows) * 100\n",
    "\n",
    "print(\"\\nPercentage of missing values in each column:\")\n",
    "print(percentage_missing)\n"
   ]
  },
  {
   "cell_type": "markdown",
   "id": "15b4553c",
   "metadata": {},
   "source": [
    "## Connected from PostAdmin to AWS +\n",
    "## Setting up pipeline - Tomorrow / Monday \n",
    "## More EDA - The whole time\n",
    "## Docker-compose file -  Tomorrow / Monday\n",
    "## Created an account for API +\n",
    "## Make a commit to see if we run into issues +"
   ]
  },
  {
   "cell_type": "code",
   "execution_count": 23,
   "id": "06dbcfa8",
   "metadata": {},
   "outputs": [
    {
     "name": "stdout",
     "output_type": "stream",
     "text": [
      "train_platform\n",
      "LNDNBDE    317\n",
      "WLOE       166\n",
      "ECROYDN    147\n",
      "STKP       147\n",
      "CRKLWD     147\n",
      "VAUXHLM    132\n",
      "RDNGSTN    123\n",
      "CLPHMJM    119\n",
      "GTWK       118\n",
      "BLFR       117\n",
      "Name: count, dtype: int64\n"
     ]
    }
   ],
   "source": [
    "station_visits = df['train_platform'].value_counts()\n",
    "\n",
    "# Sort the stations based on visit counts in descending order\n",
    "sorted_stations = station_visits.sort_values(ascending=False)\n",
    "\n",
    "# Select the top 10 stations with the highest visit counts\n",
    "top_10_stations = sorted_stations.head(10)\n",
    "\n",
    "print(top_10_stations)"
   ]
  },
  {
   "cell_type": "code",
   "execution_count": 34,
   "id": "48b67393",
   "metadata": {},
   "outputs": [
    {
     "name": "stdout",
     "output_type": "stream",
     "text": [
      "8       NaT\n",
      "10      NaT\n",
      "16      NaT\n",
      "17      NaT\n",
      "22      NaT\n",
      "         ..\n",
      "94233   NaT\n",
      "94235   NaT\n",
      "94238   NaT\n",
      "94240   NaT\n",
      "94243   NaT\n",
      "Name: working_time_pass, Length: 37100, dtype: datetime64[ns]\n"
     ]
    }
   ],
   "source": [
    "print(df['working_time_pass'])"
   ]
  },
  {
   "cell_type": "code",
   "execution_count": 35,
   "id": "996d76cb",
   "metadata": {},
   "outputs": [
    {
     "name": "stdout",
     "output_type": "stream",
     "text": [
      "8       2023-07-27 00:03:00\n",
      "10      2023-07-27 00:07:00\n",
      "16      2023-07-27 00:30:30\n",
      "17      2023-07-27 00:33:00\n",
      "22      2023-07-27 21:53:00\n",
      "                ...        \n",
      "94233   2023-07-27 17:30:30\n",
      "94235   2023-07-27 17:44:00\n",
      "94238   2023-07-27 17:58:30\n",
      "94240   2023-07-27 18:08:30\n",
      "94243   2023-07-27 18:18:30\n",
      "Name: working_time_arrival, Length: 37100, dtype: datetime64[ns]\n"
     ]
    }
   ],
   "source": [
    "print(df['working_time_arrival'])"
   ]
  },
  {
   "cell_type": "code",
   "execution_count": 37,
   "id": "30ed49e4",
   "metadata": {},
   "outputs": [
    {
     "name": "stdout",
     "output_type": "stream",
     "text": [
      "8                       NaT\n",
      "10                      NaT\n",
      "16                      NaT\n",
      "17                      NaT\n",
      "22      2023-07-27 21:53:00\n",
      "                ...        \n",
      "94233   2023-07-27 17:31:00\n",
      "94235   2023-07-27 17:44:00\n",
      "94238   2023-07-27 17:59:00\n",
      "94240   2023-07-27 18:09:00\n",
      "94243   2023-07-27 18:19:00\n",
      "Name: planned_time_arrival, Length: 37100, dtype: datetime64[ns]\n"
     ]
    }
   ],
   "source": [
    "print(df['planned_time_arrival'])"
   ]
  },
  {
   "cell_type": "code",
   "execution_count": 39,
   "id": "20b9085a",
   "metadata": {},
   "outputs": [
    {
     "name": "stdout",
     "output_type": "stream",
     "text": [
      "8       2023-07-27 00:53:00\n",
      "10      2023-07-27 00:57:00\n",
      "16      2023-07-27 01:07:00\n",
      "17      2023-07-27 01:09:00\n",
      "22                      NaT\n",
      "                ...        \n",
      "94233   2023-07-27 18:07:00\n",
      "94235   2023-07-27 18:18:00\n",
      "94238   2023-07-27 18:29:00\n",
      "94240   2023-07-27 18:35:00\n",
      "94243   2023-07-27 18:44:00\n",
      "Name: actual_arrival_time, Length: 37100, dtype: datetime64[ns]\n"
     ]
    }
   ],
   "source": [
    "print(df['actual_arrival_time'])"
   ]
  },
  {
   "cell_type": "code",
   "execution_count": 40,
   "id": "630ca316",
   "metadata": {},
   "outputs": [
    {
     "name": "stdout",
     "output_type": "stream",
     "text": [
      "8       2023-07-27 00:53:00\n",
      "10      2023-07-27 00:58:00\n",
      "16      2023-07-27 01:07:00\n",
      "17      2023-07-27 01:10:00\n",
      "22                      NaT\n",
      "                ...        \n",
      "94233   2023-07-27 18:08:00\n",
      "94235   2023-07-27 18:19:00\n",
      "94238   2023-07-27 18:30:00\n",
      "94240   2023-07-27 18:35:00\n",
      "94243   2023-07-27 18:45:00\n",
      "Name: actual_departure_time, Length: 37100, dtype: datetime64[ns]\n"
     ]
    }
   ],
   "source": [
    "print(df['actual_departure_time'])"
   ]
  },
  {
   "cell_type": "code",
   "execution_count": 43,
   "id": "dbc7fbcb",
   "metadata": {
    "scrolled": true
   },
   "outputs": [
    {
     "name": "stderr",
     "output_type": "stream",
     "text": [
      "C:\\Users\\andre\\AppData\\Local\\Temp\\ipykernel_2348\\687118461.py:5: UserWarning: Could not infer format, so each element will be parsed individually, falling back to `dateutil`. To ensure parsing is consistent and as-expected, please specify a format.\n",
      "  df['actual_departure_time'] = pd.to_datetime(df['actual_departure_time'])\n"
     ]
    },
    {
     "name": "stdout",
     "output_type": "stream",
     "text": [
      "8        2023-08-03 12:53:00 AM\n",
      "10       2023-08-03 12:58:00 AM\n",
      "16       2023-08-03 01:07:00 AM\n",
      "17       2023-08-03 01:10:00 AM\n",
      "22                          NaN\n",
      "                  ...          \n",
      "94233    2023-08-03 06:08:00 PM\n",
      "94235    2023-08-03 06:19:00 PM\n",
      "94238    2023-08-03 06:30:00 PM\n",
      "94240    2023-08-03 06:35:00 PM\n",
      "94243    2023-08-03 06:45:00 PM\n",
      "Name: formatted_departure_time, Length: 37100, dtype: object\n"
     ]
    }
   ],
   "source": [
    "\n",
    "\n",
    "df['actual_departure_time'] = pd.to_datetime(df['actual_departure_time'])\n",
    "\n",
    "# Define the desired 12-hour clock format with AM/PM indicators\n",
    "time_format_12h = \"%I:%M:%S %p\"\n",
    "\n",
    "# Format the 'actual_departure_time' column to 12-hour clock format\n",
    "formatted_time = df['actual_departure_time'].dt.strftime(time_format_12h)\n",
    "\n",
    "# Concatenate the date and time to get the final result\n",
    "df['formatted_departure_time'] = df['actual_departure_time'].dt.strftime(\"%Y-%m-%d\") + \" \" + formatted_time\n",
    "\n",
    "# Display the DataFrame with the formatted date and time\n",
    "print(df['formatted_departure_time'])\n",
    "\n"
   ]
  },
  {
   "cell_type": "code",
   "execution_count": 4,
   "id": "c8e63c61",
   "metadata": {},
   "outputs": [
    {
     "data": {
      "text/html": [
       "<div>\n",
       "<style scoped>\n",
       "    .dataframe tbody tr th:only-of-type {\n",
       "        vertical-align: middle;\n",
       "    }\n",
       "\n",
       "    .dataframe tbody tr th {\n",
       "        vertical-align: top;\n",
       "    }\n",
       "\n",
       "    .dataframe thead th {\n",
       "        text-align: right;\n",
       "    }\n",
       "</style>\n",
       "<table border=\"1\" class=\"dataframe\">\n",
       "  <thead>\n",
       "    <tr style=\"text-align: right;\">\n",
       "      <th></th>\n",
       "      <th>AtcoCode</th>\n",
       "      <th>TiplocCode</th>\n",
       "      <th>CrsCode</th>\n",
       "      <th>StationName</th>\n",
       "      <th>StationNameLang</th>\n",
       "      <th>GridType</th>\n",
       "      <th>Easting</th>\n",
       "      <th>Northing</th>\n",
       "      <th>CreationDateTime</th>\n",
       "      <th>ModificationDateTime</th>\n",
       "      <th>RevisionNumber</th>\n",
       "      <th>Modification</th>\n",
       "    </tr>\n",
       "  </thead>\n",
       "  <tbody>\n",
       "    <tr>\n",
       "      <th>0</th>\n",
       "      <td>9100PENZNCE</td>\n",
       "      <td>PENZNCE</td>\n",
       "      <td>PNZ</td>\n",
       "      <td>Penzance Rail Station</td>\n",
       "      <td>NaN</td>\n",
       "      <td>U</td>\n",
       "      <td>147588</td>\n",
       "      <td>30599</td>\n",
       "      <td>2003-11-04T00:00:00</td>\n",
       "      <td>2011-09-30T14:47:28</td>\n",
       "      <td>2</td>\n",
       "      <td>rev</td>\n",
       "    </tr>\n",
       "    <tr>\n",
       "      <th>1</th>\n",
       "      <td>9100STIVES</td>\n",
       "      <td>STIVES</td>\n",
       "      <td>SIV</td>\n",
       "      <td>St Ives (Cornwall) Rail Station</td>\n",
       "      <td>NaN</td>\n",
       "      <td>U</td>\n",
       "      <td>151947</td>\n",
       "      <td>40127</td>\n",
       "      <td>2005-04-04T00:00:00</td>\n",
       "      <td>2011-09-30T14:47:28</td>\n",
       "      <td>4</td>\n",
       "      <td>rev</td>\n",
       "    </tr>\n",
       "    <tr>\n",
       "      <th>2</th>\n",
       "      <td>9100CARBISB</td>\n",
       "      <td>CARBISB</td>\n",
       "      <td>CBB</td>\n",
       "      <td>Carbis Bay Rail Station</td>\n",
       "      <td>NaN</td>\n",
       "      <td>U</td>\n",
       "      <td>152930</td>\n",
       "      <td>38745</td>\n",
       "      <td>2003-11-04T00:00:00</td>\n",
       "      <td>2011-09-30T14:47:28</td>\n",
       "      <td>5</td>\n",
       "      <td>rev</td>\n",
       "    </tr>\n",
       "    <tr>\n",
       "      <th>3</th>\n",
       "      <td>9100STERTH</td>\n",
       "      <td>STERTH</td>\n",
       "      <td>SER</td>\n",
       "      <td>St Erth Rail Station</td>\n",
       "      <td>NaN</td>\n",
       "      <td>U</td>\n",
       "      <td>154150</td>\n",
       "      <td>35730</td>\n",
       "      <td>2003-11-04T00:00:00</td>\n",
       "      <td>2007-02-13T17:06:21</td>\n",
       "      <td>3</td>\n",
       "      <td>rev</td>\n",
       "    </tr>\n",
       "    <tr>\n",
       "      <th>4</th>\n",
       "      <td>9100LELANTS</td>\n",
       "      <td>LELANTS</td>\n",
       "      <td>LTS</td>\n",
       "      <td>Lelant Saltings Rail Station</td>\n",
       "      <td>NaN</td>\n",
       "      <td>U</td>\n",
       "      <td>154430</td>\n",
       "      <td>36640</td>\n",
       "      <td>2003-11-04T00:00:00</td>\n",
       "      <td>2011-09-30T14:47:28</td>\n",
       "      <td>2</td>\n",
       "      <td>rev</td>\n",
       "    </tr>\n",
       "  </tbody>\n",
       "</table>\n",
       "</div>"
      ],
      "text/plain": [
       "      AtcoCode TiplocCode CrsCode                      StationName   \n",
       "0  9100PENZNCE    PENZNCE     PNZ            Penzance Rail Station  \\\n",
       "1   9100STIVES     STIVES     SIV  St Ives (Cornwall) Rail Station   \n",
       "2  9100CARBISB    CARBISB     CBB          Carbis Bay Rail Station   \n",
       "3   9100STERTH     STERTH     SER             St Erth Rail Station   \n",
       "4  9100LELANTS    LELANTS     LTS     Lelant Saltings Rail Station   \n",
       "\n",
       "   StationNameLang GridType  Easting  Northing     CreationDateTime   \n",
       "0              NaN        U   147588     30599  2003-11-04T00:00:00  \\\n",
       "1              NaN        U   151947     40127  2005-04-04T00:00:00   \n",
       "2              NaN        U   152930     38745  2003-11-04T00:00:00   \n",
       "3              NaN        U   154150     35730  2003-11-04T00:00:00   \n",
       "4              NaN        U   154430     36640  2003-11-04T00:00:00   \n",
       "\n",
       "  ModificationDateTime  RevisionNumber Modification  \n",
       "0  2011-09-30T14:47:28               2          rev  \n",
       "1  2011-09-30T14:47:28               4          rev  \n",
       "2  2011-09-30T14:47:28               5          rev  \n",
       "3  2007-02-13T17:06:21               3          rev  \n",
       "4  2011-09-30T14:47:28               2          rev  "
      ]
     },
     "execution_count": 4,
     "metadata": {},
     "output_type": "execute_result"
    }
   ],
   "source": [
    "df_csv = pd.read_csv('/Users/andre/github-classroom/RailReferences.csv')\n",
    "df_csv.head()"
   ]
  },
  {
   "cell_type": "code",
   "execution_count": 84,
   "id": "17b8264f",
   "metadata": {},
   "outputs": [
    {
     "data": {
      "text/plain": [
       "630700"
      ]
     },
     "execution_count": 84,
     "metadata": {},
     "output_type": "execute_result"
    }
   ],
   "source": [
    "df.size"
   ]
  },
  {
   "cell_type": "code",
   "execution_count": 67,
   "id": "60ca6ea1",
   "metadata": {},
   "outputs": [
    {
     "data": {
      "text/html": [
       "<div>\n",
       "<style scoped>\n",
       "    .dataframe tbody tr th:only-of-type {\n",
       "        vertical-align: middle;\n",
       "    }\n",
       "\n",
       "    .dataframe tbody tr th {\n",
       "        vertical-align: top;\n",
       "    }\n",
       "\n",
       "    .dataframe thead th {\n",
       "        text-align: right;\n",
       "    }\n",
       "</style>\n",
       "<table border=\"1\" class=\"dataframe\">\n",
       "  <thead>\n",
       "    <tr style=\"text-align: right;\">\n",
       "      <th></th>\n",
       "      <th>AtcoCode</th>\n",
       "      <th>TiplocCode</th>\n",
       "      <th>CrsCode</th>\n",
       "      <th>StationName</th>\n",
       "      <th>StationNameLang</th>\n",
       "      <th>GridType</th>\n",
       "      <th>Easting</th>\n",
       "      <th>Northing</th>\n",
       "      <th>CreationDateTime</th>\n",
       "      <th>ModificationDateTime</th>\n",
       "      <th>RevisionNumber</th>\n",
       "      <th>Modification</th>\n",
       "    </tr>\n",
       "  </thead>\n",
       "  <tbody>\n",
       "    <tr>\n",
       "      <th>2265</th>\n",
       "      <td>9100STFD</td>\n",
       "      <td>STFD</td>\n",
       "      <td>SRA</td>\n",
       "      <td>Stratford (London) Rail Station</td>\n",
       "      <td>NaN</td>\n",
       "      <td>U</td>\n",
       "      <td>538557</td>\n",
       "      <td>184444</td>\n",
       "      <td>2003-11-04T00:00:00</td>\n",
       "      <td>2009-10-05T17:34:50</td>\n",
       "      <td>2</td>\n",
       "      <td>rev</td>\n",
       "    </tr>\n",
       "  </tbody>\n",
       "</table>\n",
       "</div>"
      ],
      "text/plain": [
       "      AtcoCode TiplocCode CrsCode                      StationName   \n",
       "2265  9100STFD       STFD     SRA  Stratford (London) Rail Station  \\\n",
       "\n",
       "      StationNameLang GridType  Easting  Northing     CreationDateTime   \n",
       "2265              NaN        U   538557    184444  2003-11-04T00:00:00  \\\n",
       "\n",
       "     ModificationDateTime  RevisionNumber Modification  \n",
       "2265  2009-10-05T17:34:50               2          rev  "
      ]
     },
     "execution_count": 67,
     "metadata": {},
     "output_type": "execute_result"
    }
   ],
   "source": [
    "df_csv.loc[df_csv['TiplocCode']=='STFD']"
   ]
  },
  {
   "cell_type": "code",
   "execution_count": 56,
   "id": "176fe814",
   "metadata": {},
   "outputs": [
    {
     "name": "stdout",
     "output_type": "stream",
     "text": [
      "AtcoCode                 object\n",
      "TiplocCode               object\n",
      "CrsCode                  object\n",
      "StationName              object\n",
      "StationNameLang         float64\n",
      "GridType                 object\n",
      "Easting                   int64\n",
      "Northing                  int64\n",
      "CreationDateTime         object\n",
      "ModificationDateTime     object\n",
      "RevisionNumber            int64\n",
      "Modification             object\n",
      "dtype: object\n"
     ]
    }
   ],
   "source": [
    "print(df_csv.dtypes)\n"
   ]
  },
  {
   "cell_type": "code",
   "execution_count": 5,
   "id": "b0e8383e",
   "metadata": {},
   "outputs": [
    {
     "name": "stdout",
     "output_type": "stream",
     "text": [
      "              route_id unique_id service_start_date update_origin   \n",
      "0      202307278077713    P77713         2023-07-27         Trust  \\\n",
      "1                  NaN       NaN                NaN           NaN   \n",
      "2      202307278075788    P75788         2023-07-27         Trust   \n",
      "3      202307278075802    P75802         2023-07-27         Trust   \n",
      "4      202307288075712    P75712         2023-07-28           CIS   \n",
      "...                ...       ...                ...           ...   \n",
      "34852              NaN       NaN                NaN           NaN   \n",
      "34853  202307288001533    P01533         2023-07-28        Darwin   \n",
      "34854  202307278001530    P01530         2023-07-27         Trust   \n",
      "34855  202307278000765    P00765         2023-07-27         Trust   \n",
      "34856              NaN       NaN                NaN           NaN   \n",
      "\n",
      "      train_platform working_time_pass working_time_arrival   \n",
      "0            PENZNCE               NaT  2023-07-27 00:42:00  \\\n",
      "1                NaN               NaT                  NaT   \n",
      "2            CARBISB               NaT  2023-07-27 18:07:00   \n",
      "3            CARBISB               NaT  2023-07-27 19:57:30   \n",
      "4            CARBISB               NaT  2023-07-28 07:35:00   \n",
      "...              ...               ...                  ...   \n",
      "34852            NaN               NaT                  NaT   \n",
      "34853        OULTNBN               NaT  2023-07-28 05:40:30   \n",
      "34854        OULTNBN               NaT  2023-07-27 17:51:30   \n",
      "34855        OULTNBN               NaT  2023-07-27 21:51:30   \n",
      "34856            NaN               NaT                  NaT   \n",
      "\n",
      "      working_time_departure planned_time_arrival planned_time_departure  ...   \n",
      "0        2023-07-27 01:25:00                  NaT                    NaT  ...  \\\n",
      "1                        NaT                  NaT                    NaT  ...   \n",
      "2        2023-07-27 18:07:30  2023-07-27 18:06:00    2023-07-27 18:06:00  ...   \n",
      "3        2023-07-27 19:58:00  2023-07-27 19:58:00    2023-07-27 19:58:00  ...   \n",
      "4        2023-07-28 07:35:30  2023-07-28 07:35:00    2023-07-28 07:35:00  ...   \n",
      "...                      ...                  ...                    ...  ...   \n",
      "34852                    NaT                  NaT                    NaT  ...   \n",
      "34853    2023-07-28 05:41:30  2023-07-28 05:41:00    2023-07-28 05:41:00  ...   \n",
      "34854    2023-07-27 17:52:30  2023-07-27 17:52:00    2023-07-27 17:52:00  ...   \n",
      "34855    2023-07-27 21:52:30  2023-07-27 21:52:00    2023-07-27 21:52:00  ...   \n",
      "34856                    NaT                  NaT                    NaT  ...   \n",
      "\n",
      "       CrsCode                      StationName StationNameLang GridType   \n",
      "0          PNZ            Penzance Rail Station             NaN        U  \\\n",
      "1          SIV  St Ives (Cornwall) Rail Station             NaN        U   \n",
      "2          CBB          Carbis Bay Rail Station             NaN        U   \n",
      "3          CBB          Carbis Bay Rail Station             NaN        U   \n",
      "4          CBB          Carbis Bay Rail Station             NaN        U   \n",
      "...        ...                              ...             ...      ...   \n",
      "34852      GYM      Great Yarmouth Rail Station             NaN        U   \n",
      "34853      OUN  Oulton Broad North Rail Station             NaN        U   \n",
      "34854      OUN  Oulton Broad North Rail Station             NaN        U   \n",
      "34855      OUN  Oulton Broad North Rail Station             NaN        U   \n",
      "34856      LWT           Lowestoft Rail Station             NaN        U   \n",
      "\n",
      "      Easting Northing     CreationDateTime ModificationDateTime   \n",
      "0      147588    30599  2003-11-04T00:00:00  2011-09-30T14:47:28  \\\n",
      "1      151947    40127  2005-04-04T00:00:00  2011-09-30T14:47:28   \n",
      "2      152930    38745  2003-11-04T00:00:00  2011-09-30T14:47:28   \n",
      "3      152930    38745  2003-11-04T00:00:00  2011-09-30T14:47:28   \n",
      "4      152930    38745  2003-11-04T00:00:00  2011-09-30T14:47:28   \n",
      "...       ...      ...                  ...                  ...   \n",
      "34852  652000   308100  2003-11-04T00:00:00  2007-02-13T17:06:21   \n",
      "34853  652420   293140  2005-03-17T00:00:00  2007-02-13T17:06:21   \n",
      "34854  652420   293140  2005-03-17T00:00:00  2007-02-13T17:06:21   \n",
      "34855  652420   293140  2005-03-17T00:00:00  2007-02-13T17:06:21   \n",
      "34856  654747   292890  2003-11-04T00:00:00  2007-02-13T17:06:21   \n",
      "\n",
      "      RevisionNumber Modification  \n",
      "0                  2          rev  \n",
      "1                  4          rev  \n",
      "2                  5          rev  \n",
      "3                  5          rev  \n",
      "4                  5          rev  \n",
      "...              ...          ...  \n",
      "34852              4          rev  \n",
      "34853              3          rev  \n",
      "34854              3          rev  \n",
      "34855              3          rev  \n",
      "34856              4          rev  \n",
      "\n",
      "[34857 rows x 29 columns]\n"
     ]
    }
   ],
   "source": [
    "merged_df = df.merge(df_csv, left_on='train_platform', right_on='TiplocCode', how = 'right') #Anything on the right table (df_csv) that will stay(main table) and if it matches, we add from the left table(df)\n",
    "print(merged_df)"
   ]
  },
  {
   "cell_type": "code",
   "execution_count": 6,
   "id": "71da099c",
   "metadata": {},
   "outputs": [
    {
     "data": {
      "text/plain": [
       "1010853"
      ]
     },
     "execution_count": 6,
     "metadata": {},
     "output_type": "execute_result"
    }
   ],
   "source": [
    "merged_df.size"
   ]
  },
  {
   "cell_type": "markdown",
   "id": "466cfa0b",
   "metadata": {},
   "source": [
    "## Top 10 Most Visted Station"
   ]
  },
  {
   "cell_type": "code",
   "execution_count": 7,
   "id": "62cdb8c2",
   "metadata": {},
   "outputs": [
    {
     "name": "stdout",
     "output_type": "stream",
     "text": [
      "StationName\n",
      "London Bridge Rail Station           318\n",
      "Clapham Junction Rail Station        263\n",
      "London Waterloo East Rail Station    166\n",
      "East Croydon Rail Station            147\n",
      "Cricklewood Rail Station             147\n",
      "Stockport Rail Station               147\n",
      "Vauxhall Rail Station                133\n",
      "Reading Rail Station                 125\n",
      "Gatwick Airport Rail Station         118\n",
      "London Blackfriars Rail Station      117\n",
      "Name: count, dtype: int64\n"
     ]
    }
   ],
   "source": [
    "station_visits = merged_df['StationName'].value_counts()\n",
    "\n",
    "# Sort the stations based on visit counts in descending order\n",
    "sorted_stations = station_visits.sort_values(ascending=False)\n",
    "\n",
    "# Select the top 10 stations with the highest visit counts\n",
    "top_10_stations_merged = sorted_stations.head(10)\n",
    "\n",
    "print(top_10_stations_merged)"
   ]
  },
  {
   "cell_type": "markdown",
   "id": "99ed3ccd",
   "metadata": {},
   "source": [
    "## Top 10 Stations Vistied in a Day"
   ]
  },
  {
   "cell_type": "code",
   "execution_count": null,
   "id": "21d5693b",
   "metadata": {
    "is_executing": true
   },
   "outputs": [],
   "source": [
    "# Extract the date from the working_time_arrival column\n",
    "merged_df['date'] = merged_df['working_time_arrival'].dt.date\n",
    "\n",
    "# Group by StationName and date, then count occurrences\n",
    "station_counts = merged_df.groupby(['StationName', 'date']).size().reset_index(name='count')\n",
    "\n",
    "# Sort stations by count in descending order\n",
    "station_counts_sorted = station_counts.sort_values(by='count', ascending=False)\n",
    "\n",
    "# Get the top 10 most visited stations\n",
    "top_10_stations = station_counts_sorted.head(10)\n",
    "\n",
    "print(top_10_stations)\n",
    "\n"
   ]
  },
  {
   "cell_type": "code",
   "execution_count": 44,
   "id": "276cd3f0",
   "metadata": {},
   "outputs": [
    {
     "name": "stdout",
     "output_type": "stream",
     "text": [
      "Train with the most delays: Duke Street Rail Station\n"
     ]
    }
   ],
   "source": [
    "merged_df['planned_time_arrival'] = pd.to_datetime(merged_df['planned_time_arrival'])\n",
    "merged_df['working_time_arrival'] = pd.to_datetime(merged_df['working_time_arrival'])\n",
    "\n",
    "# Calculate delay for each train\n",
    "merged_df['delay'] = merged_df['working_time_arrival'] - merged_df['planned_time_arrival']\n",
    "\n",
    "# Group by train and calculate total delay for each train\n",
    "train_delays = merged_df.groupby('StationName')['delay'].sum()\n",
    "\n",
    "# Find the train with the most delays\n",
    "most_delayed_train = train_delays.idxmax()\n",
    "max_delay = train_delays.max()\n",
    "\n",
    "print(f\"Train with the most delays: {most_delayed_train}\")\n"
   ]
  },
  {
   "cell_type": "code",
   "execution_count": 57,
   "id": "63b3e9d3",
   "metadata": {},
   "outputs": [
    {
     "name": "stdout",
     "output_type": "stream",
     "text": [
      "Train with the least delays: Abbey Wood (London) Rail Station\n"
     ]
    }
   ],
   "source": [
    "# Convert relevant columns to datetime format\n",
    "merged_df['planned_time_arrival'] = pd.to_datetime(merged_df['planned_time_arrival'])\n",
    "merged_df['working_time_arrival'] = pd.to_datetime(merged_df['working_time_arrival'])\n",
    "\n",
    "# Calculate delay for each train\n",
    "merged_df['delay'] = merged_df['working_time_arrival'] - merged_df['planned_time_arrival']\n",
    "\n",
    "# Filter out negative delays\n",
    "merged_df = merged_df[merged_df['delay'] >= pd.Timedelta(0)]\n",
    "\n",
    "# Group by train and calculate total delay for each train\n",
    "train_delays = merged_df.groupby('StationName')['delay'].sum()\n",
    "\n",
    "# Find the train with the least delays\n",
    "least_delayed_train = train_delays.idxmin()\n",
    "min_delay = train_delays.min()\n",
    "\n",
    "print(f\"Train with the least delays: {least_delayed_train}\")\n"
   ]
  },
  {
   "cell_type": "code",
   "execution_count": 41,
   "id": "046671af",
   "metadata": {},
   "outputs": [
    {
     "name": "stdout",
     "output_type": "stream",
     "text": [
      "Oldest Train:\n",
      "route_id                          202307278070018\n",
      "unique_id                                  P70018\n",
      "service_start_date            2017-11-12 21:49:11\n",
      "update_origin                                 CIS\n",
      "train_platform                            KENLSTN\n",
      "working_time_pass                             NaT\n",
      "working_time_arrival          2023-07-27 18:07:00\n",
      "working_time_departure        2023-07-27 18:08:00\n",
      "planned_time_arrival          2023-07-27 18:07:00\n",
      "planned_time_departure        2023-07-27 18:08:00\n",
      "pass                                          NaN\n",
      "platform                                        1\n",
      "train_length                                    2\n",
      "actual_arrival_time           2023-07-27 18:07:00\n",
      "actual_departure_time         2023-07-27 18:08:00\n",
      "is_delayed_arrival                          False\n",
      "is_delayed_departure                        False\n",
      "AtcoCode                              9100KENLSTN\n",
      "TiplocCode                                KENLSTN\n",
      "CrsCode                                       KNW\n",
      "StationName               Kenilworth Rail Station\n",
      "StationNameLang                               NaN\n",
      "GridType                                        U\n",
      "Easting                                    429205\n",
      "Northing                                   271711\n",
      "CreationDateTime              2017-11-12 21:49:11\n",
      "ModificationDateTime          2017-11-12T21:49:11\n",
      "RevisionNumber                                  1\n",
      "Modification                                  New\n",
      "time_bin                                      NaN\n",
      "delay                             0 days 00:00:00\n",
      "day_of_week                                   3.0\n",
      "delay_minutes                                 0.0\n",
      "arrival_delay_minutes                         0.0\n",
      "Name: 13454, dtype: object\n"
     ]
    }
   ],
   "source": [
    "merged_df['CreationDateTime'] = pd.to_datetime(merged_df['CreationDateTime'])\n",
    "\n",
    "# Find the train with the oldest service start date\n",
    "oldest_train = merged_df.loc[merged_df['CreationDateTime'].idxmax()]\n",
    "\n",
    "print(\"Oldest Train:\")\n",
    "print(oldest_train)"
   ]
  },
  {
   "cell_type": "code",
   "execution_count": 43,
   "id": "36e86c52",
   "metadata": {},
   "outputs": [
    {
     "data": {
      "text/html": [
       "<div>\n",
       "<style scoped>\n",
       "    .dataframe tbody tr th:only-of-type {\n",
       "        vertical-align: middle;\n",
       "    }\n",
       "\n",
       "    .dataframe tbody tr th {\n",
       "        vertical-align: top;\n",
       "    }\n",
       "\n",
       "    .dataframe thead th {\n",
       "        text-align: right;\n",
       "    }\n",
       "</style>\n",
       "<table border=\"1\" class=\"dataframe\">\n",
       "  <thead>\n",
       "    <tr style=\"text-align: right;\">\n",
       "      <th></th>\n",
       "      <th>route_id</th>\n",
       "      <th>unique_id</th>\n",
       "      <th>service_start_date</th>\n",
       "      <th>update_origin</th>\n",
       "      <th>train_platform</th>\n",
       "      <th>working_time_pass</th>\n",
       "      <th>working_time_arrival</th>\n",
       "      <th>working_time_departure</th>\n",
       "      <th>planned_time_arrival</th>\n",
       "      <th>planned_time_departure</th>\n",
       "      <th>...</th>\n",
       "      <th>Northing</th>\n",
       "      <th>CreationDateTime</th>\n",
       "      <th>ModificationDateTime</th>\n",
       "      <th>RevisionNumber</th>\n",
       "      <th>Modification</th>\n",
       "      <th>time_bin</th>\n",
       "      <th>delay</th>\n",
       "      <th>day_of_week</th>\n",
       "      <th>delay_minutes</th>\n",
       "      <th>arrival_delay_minutes</th>\n",
       "    </tr>\n",
       "  </thead>\n",
       "  <tbody>\n",
       "    <tr>\n",
       "      <th>4</th>\n",
       "      <td>202307288075712</td>\n",
       "      <td>P75712</td>\n",
       "      <td>2003-11-04</td>\n",
       "      <td>CIS</td>\n",
       "      <td>CARBISB</td>\n",
       "      <td>NaT</td>\n",
       "      <td>2023-07-28 07:35:00</td>\n",
       "      <td>2023-07-28 07:35:30</td>\n",
       "      <td>2023-07-28 07:35:00</td>\n",
       "      <td>2023-07-28 07:35:00</td>\n",
       "      <td>...</td>\n",
       "      <td>38745</td>\n",
       "      <td>2003-11-04</td>\n",
       "      <td>2011-09-30T14:47:28</td>\n",
       "      <td>5</td>\n",
       "      <td>rev</td>\n",
       "      <td>NaN</td>\n",
       "      <td>0 days</td>\n",
       "      <td>4.0</td>\n",
       "      <td>0.0</td>\n",
       "      <td>0.0</td>\n",
       "    </tr>\n",
       "    <tr>\n",
       "      <th>5</th>\n",
       "      <td>202307278075392</td>\n",
       "      <td>P75392</td>\n",
       "      <td>2003-11-04</td>\n",
       "      <td>Darwin</td>\n",
       "      <td>STERTH</td>\n",
       "      <td>NaT</td>\n",
       "      <td>2023-07-27 22:14:00</td>\n",
       "      <td>2023-07-27 22:15:30</td>\n",
       "      <td>2023-07-27 22:14:00</td>\n",
       "      <td>2023-07-27 22:15:00</td>\n",
       "      <td>...</td>\n",
       "      <td>35730</td>\n",
       "      <td>2003-11-04</td>\n",
       "      <td>2007-02-13T17:06:21</td>\n",
       "      <td>3</td>\n",
       "      <td>rev</td>\n",
       "      <td>NaN</td>\n",
       "      <td>0 days</td>\n",
       "      <td>3.0</td>\n",
       "      <td>0.0</td>\n",
       "      <td>0.0</td>\n",
       "    </tr>\n",
       "    <tr>\n",
       "      <th>7</th>\n",
       "      <td>202307277159576</td>\n",
       "      <td>G59576</td>\n",
       "      <td>2003-11-04</td>\n",
       "      <td>Trust</td>\n",
       "      <td>STERTH</td>\n",
       "      <td>NaT</td>\n",
       "      <td>2023-07-27 20:36:00</td>\n",
       "      <td>2023-07-27 20:37:30</td>\n",
       "      <td>2023-07-27 20:36:00</td>\n",
       "      <td>2023-07-27 20:37:00</td>\n",
       "      <td>...</td>\n",
       "      <td>35730</td>\n",
       "      <td>2003-11-04</td>\n",
       "      <td>2007-02-13T17:06:21</td>\n",
       "      <td>3</td>\n",
       "      <td>rev</td>\n",
       "      <td>NaN</td>\n",
       "      <td>0 days</td>\n",
       "      <td>3.0</td>\n",
       "      <td>0.0</td>\n",
       "      <td>7.0</td>\n",
       "    </tr>\n",
       "    <tr>\n",
       "      <th>9</th>\n",
       "      <td>202307287159582</td>\n",
       "      <td>G59582</td>\n",
       "      <td>2003-11-04</td>\n",
       "      <td>CIS</td>\n",
       "      <td>STERTH</td>\n",
       "      <td>NaT</td>\n",
       "      <td>2023-07-28 21:25:00</td>\n",
       "      <td>2023-07-28 21:26:30</td>\n",
       "      <td>2023-07-28 21:25:00</td>\n",
       "      <td>2023-07-28 21:26:00</td>\n",
       "      <td>...</td>\n",
       "      <td>35730</td>\n",
       "      <td>2003-11-04</td>\n",
       "      <td>2007-02-13T17:06:21</td>\n",
       "      <td>3</td>\n",
       "      <td>rev</td>\n",
       "      <td>NaN</td>\n",
       "      <td>0 days</td>\n",
       "      <td>4.0</td>\n",
       "      <td>0.0</td>\n",
       "      <td>0.0</td>\n",
       "    </tr>\n",
       "    <tr>\n",
       "      <th>15</th>\n",
       "      <td>202307278075392</td>\n",
       "      <td>P75392</td>\n",
       "      <td>2003-11-04</td>\n",
       "      <td>TD</td>\n",
       "      <td>STERTH</td>\n",
       "      <td>NaT</td>\n",
       "      <td>2023-07-27 22:14:00</td>\n",
       "      <td>2023-07-27 22:15:30</td>\n",
       "      <td>2023-07-27 22:14:00</td>\n",
       "      <td>2023-07-27 22:15:00</td>\n",
       "      <td>...</td>\n",
       "      <td>35730</td>\n",
       "      <td>2003-11-04</td>\n",
       "      <td>2007-02-13T17:06:21</td>\n",
       "      <td>3</td>\n",
       "      <td>rev</td>\n",
       "      <td>NaN</td>\n",
       "      <td>0 days</td>\n",
       "      <td>3.0</td>\n",
       "      <td>0.0</td>\n",
       "      <td>13.0</td>\n",
       "    </tr>\n",
       "    <tr>\n",
       "      <th>...</th>\n",
       "      <td>...</td>\n",
       "      <td>...</td>\n",
       "      <td>...</td>\n",
       "      <td>...</td>\n",
       "      <td>...</td>\n",
       "      <td>...</td>\n",
       "      <td>...</td>\n",
       "      <td>...</td>\n",
       "      <td>...</td>\n",
       "      <td>...</td>\n",
       "      <td>...</td>\n",
       "      <td>...</td>\n",
       "      <td>...</td>\n",
       "      <td>...</td>\n",
       "      <td>...</td>\n",
       "      <td>...</td>\n",
       "      <td>...</td>\n",
       "      <td>...</td>\n",
       "      <td>...</td>\n",
       "      <td>...</td>\n",
       "      <td>...</td>\n",
       "    </tr>\n",
       "    <tr>\n",
       "      <th>34838</th>\n",
       "      <td>202307277673815</td>\n",
       "      <td>L73815</td>\n",
       "      <td>2005-04-21</td>\n",
       "      <td>Darwin</td>\n",
       "      <td>BRSR</td>\n",
       "      <td>NaT</td>\n",
       "      <td>2023-07-27 19:10:00</td>\n",
       "      <td>2023-07-27 19:11:00</td>\n",
       "      <td>2023-07-27 19:10:00</td>\n",
       "      <td>2023-07-27 19:11:00</td>\n",
       "      <td>...</td>\n",
       "      <td>167997</td>\n",
       "      <td>2005-04-21</td>\n",
       "      <td>2006-09-18T18:24:34</td>\n",
       "      <td>2</td>\n",
       "      <td>rev</td>\n",
       "      <td>NaN</td>\n",
       "      <td>0 days</td>\n",
       "      <td>3.0</td>\n",
       "      <td>0.0</td>\n",
       "      <td>2.0</td>\n",
       "    </tr>\n",
       "    <tr>\n",
       "      <th>34839</th>\n",
       "      <td>202307277673931</td>\n",
       "      <td>L73931</td>\n",
       "      <td>2005-04-21</td>\n",
       "      <td>TD</td>\n",
       "      <td>BRSR</td>\n",
       "      <td>NaT</td>\n",
       "      <td>2023-07-27 01:42:00</td>\n",
       "      <td>2023-07-27 01:43:00</td>\n",
       "      <td>2023-07-27 01:42:00</td>\n",
       "      <td>NaT</td>\n",
       "      <td>...</td>\n",
       "      <td>167997</td>\n",
       "      <td>2005-04-21</td>\n",
       "      <td>2006-09-18T18:24:34</td>\n",
       "      <td>2</td>\n",
       "      <td>rev</td>\n",
       "      <td>NaN</td>\n",
       "      <td>0 days</td>\n",
       "      <td>3.0</td>\n",
       "      <td>0.0</td>\n",
       "      <td>0.0</td>\n",
       "    </tr>\n",
       "    <tr>\n",
       "      <th>34840</th>\n",
       "      <td>202307278000373</td>\n",
       "      <td>P00373</td>\n",
       "      <td>2003-11-04</td>\n",
       "      <td>Darwin</td>\n",
       "      <td>ACLE</td>\n",
       "      <td>NaT</td>\n",
       "      <td>2023-07-27 17:55:00</td>\n",
       "      <td>2023-07-27 17:56:00</td>\n",
       "      <td>2023-07-27 17:55:00</td>\n",
       "      <td>2023-07-27 17:56:00</td>\n",
       "      <td>...</td>\n",
       "      <td>310000</td>\n",
       "      <td>2003-11-04</td>\n",
       "      <td>2006-09-18T18:24:34</td>\n",
       "      <td>2</td>\n",
       "      <td>rev</td>\n",
       "      <td>NaN</td>\n",
       "      <td>0 days</td>\n",
       "      <td>3.0</td>\n",
       "      <td>0.0</td>\n",
       "      <td>7.0</td>\n",
       "    </tr>\n",
       "    <tr>\n",
       "      <th>34847</th>\n",
       "      <td>202307288001533</td>\n",
       "      <td>P01533</td>\n",
       "      <td>2003-11-04</td>\n",
       "      <td>Darwin</td>\n",
       "      <td>HADISCO</td>\n",
       "      <td>NaT</td>\n",
       "      <td>2023-07-28 05:51:00</td>\n",
       "      <td>2023-07-28 05:51:30</td>\n",
       "      <td>2023-07-28 05:51:00</td>\n",
       "      <td>2023-07-28 05:51:00</td>\n",
       "      <td>...</td>\n",
       "      <td>298493</td>\n",
       "      <td>2003-11-04</td>\n",
       "      <td>2008-12-01T15:27:09</td>\n",
       "      <td>2</td>\n",
       "      <td>rev</td>\n",
       "      <td>NaN</td>\n",
       "      <td>0 days</td>\n",
       "      <td>4.0</td>\n",
       "      <td>0.0</td>\n",
       "      <td>0.0</td>\n",
       "    </tr>\n",
       "    <tr>\n",
       "      <th>34849</th>\n",
       "      <td>202307288001533</td>\n",
       "      <td>P01533</td>\n",
       "      <td>2003-11-04</td>\n",
       "      <td>Darwin</td>\n",
       "      <td>SMRLYTN</td>\n",
       "      <td>NaT</td>\n",
       "      <td>2023-07-28 05:47:00</td>\n",
       "      <td>2023-07-28 05:47:30</td>\n",
       "      <td>2023-07-28 05:47:00</td>\n",
       "      <td>2023-07-28 05:47:00</td>\n",
       "      <td>...</td>\n",
       "      <td>296530</td>\n",
       "      <td>2003-11-04</td>\n",
       "      <td>2006-09-18T18:24:34</td>\n",
       "      <td>1</td>\n",
       "      <td>rev</td>\n",
       "      <td>NaN</td>\n",
       "      <td>0 days</td>\n",
       "      <td>4.0</td>\n",
       "      <td>0.0</td>\n",
       "      <td>0.0</td>\n",
       "    </tr>\n",
       "  </tbody>\n",
       "</table>\n",
       "<p>14665 rows × 34 columns</p>\n",
       "</div>"
      ],
      "text/plain": [
       "              route_id unique_id service_start_date update_origin   \n",
       "4      202307288075712    P75712         2003-11-04           CIS  \\\n",
       "5      202307278075392    P75392         2003-11-04        Darwin   \n",
       "7      202307277159576    G59576         2003-11-04         Trust   \n",
       "9      202307287159582    G59582         2003-11-04           CIS   \n",
       "15     202307278075392    P75392         2003-11-04            TD   \n",
       "...                ...       ...                ...           ...   \n",
       "34838  202307277673815    L73815         2005-04-21        Darwin   \n",
       "34839  202307277673931    L73931         2005-04-21            TD   \n",
       "34840  202307278000373    P00373         2003-11-04        Darwin   \n",
       "34847  202307288001533    P01533         2003-11-04        Darwin   \n",
       "34849  202307288001533    P01533         2003-11-04        Darwin   \n",
       "\n",
       "      train_platform working_time_pass working_time_arrival   \n",
       "4            CARBISB               NaT  2023-07-28 07:35:00  \\\n",
       "5             STERTH               NaT  2023-07-27 22:14:00   \n",
       "7             STERTH               NaT  2023-07-27 20:36:00   \n",
       "9             STERTH               NaT  2023-07-28 21:25:00   \n",
       "15            STERTH               NaT  2023-07-27 22:14:00   \n",
       "...              ...               ...                  ...   \n",
       "34838           BRSR               NaT  2023-07-27 19:10:00   \n",
       "34839           BRSR               NaT  2023-07-27 01:42:00   \n",
       "34840           ACLE               NaT  2023-07-27 17:55:00   \n",
       "34847        HADISCO               NaT  2023-07-28 05:51:00   \n",
       "34849        SMRLYTN               NaT  2023-07-28 05:47:00   \n",
       "\n",
       "      working_time_departure planned_time_arrival planned_time_departure  ...   \n",
       "4        2023-07-28 07:35:30  2023-07-28 07:35:00    2023-07-28 07:35:00  ...  \\\n",
       "5        2023-07-27 22:15:30  2023-07-27 22:14:00    2023-07-27 22:15:00  ...   \n",
       "7        2023-07-27 20:37:30  2023-07-27 20:36:00    2023-07-27 20:37:00  ...   \n",
       "9        2023-07-28 21:26:30  2023-07-28 21:25:00    2023-07-28 21:26:00  ...   \n",
       "15       2023-07-27 22:15:30  2023-07-27 22:14:00    2023-07-27 22:15:00  ...   \n",
       "...                      ...                  ...                    ...  ...   \n",
       "34838    2023-07-27 19:11:00  2023-07-27 19:10:00    2023-07-27 19:11:00  ...   \n",
       "34839    2023-07-27 01:43:00  2023-07-27 01:42:00                    NaT  ...   \n",
       "34840    2023-07-27 17:56:00  2023-07-27 17:55:00    2023-07-27 17:56:00  ...   \n",
       "34847    2023-07-28 05:51:30  2023-07-28 05:51:00    2023-07-28 05:51:00  ...   \n",
       "34849    2023-07-28 05:47:30  2023-07-28 05:47:00    2023-07-28 05:47:00  ...   \n",
       "\n",
       "       Northing CreationDateTime ModificationDateTime RevisionNumber   \n",
       "4         38745       2003-11-04  2011-09-30T14:47:28              5  \\\n",
       "5         35730       2003-11-04  2007-02-13T17:06:21              3   \n",
       "7         35730       2003-11-04  2007-02-13T17:06:21              3   \n",
       "9         35730       2003-11-04  2007-02-13T17:06:21              3   \n",
       "15        35730       2003-11-04  2007-02-13T17:06:21              3   \n",
       "...         ...              ...                  ...            ...   \n",
       "34838    167997       2005-04-21  2006-09-18T18:24:34              2   \n",
       "34839    167997       2005-04-21  2006-09-18T18:24:34              2   \n",
       "34840    310000       2003-11-04  2006-09-18T18:24:34              2   \n",
       "34847    298493       2003-11-04  2008-12-01T15:27:09              2   \n",
       "34849    296530       2003-11-04  2006-09-18T18:24:34              1   \n",
       "\n",
       "      Modification time_bin  delay day_of_week delay_minutes   \n",
       "4              rev      NaN 0 days         4.0           0.0  \\\n",
       "5              rev      NaN 0 days         3.0           0.0   \n",
       "7              rev      NaN 0 days         3.0           0.0   \n",
       "9              rev      NaN 0 days         4.0           0.0   \n",
       "15             rev      NaN 0 days         3.0           0.0   \n",
       "...            ...      ...    ...         ...           ...   \n",
       "34838          rev      NaN 0 days         3.0           0.0   \n",
       "34839          rev      NaN 0 days         3.0           0.0   \n",
       "34840          rev      NaN 0 days         3.0           0.0   \n",
       "34847          rev      NaN 0 days         4.0           0.0   \n",
       "34849          rev      NaN 0 days         4.0           0.0   \n",
       "\n",
       "      arrival_delay_minutes  \n",
       "4                       0.0  \n",
       "5                       0.0  \n",
       "7                       7.0  \n",
       "9                       0.0  \n",
       "15                     13.0  \n",
       "...                     ...  \n",
       "34838                   2.0  \n",
       "34839                   0.0  \n",
       "34840                   7.0  \n",
       "34847                   0.0  \n",
       "34849                   0.0  \n",
       "\n",
       "[14665 rows x 34 columns]"
      ]
     },
     "execution_count": 43,
     "metadata": {},
     "output_type": "execute_result"
    }
   ],
   "source": [
    "\n",
    "# Remove rows where actual_arrival_time is NaT\n",
    "merged_df_cleaned = merged_df.dropna(subset=['actual_arrival_time'])\n",
    "\n",
    "# Now merged_df_cleaned contains only rows where actual_arrival_time is not NaT\n",
    "merged_df_cleaned"
   ]
  },
  {
   "cell_type": "markdown",
   "id": "da3b58d3",
   "metadata": {},
   "source": [
    "## Station Traffic by Hour"
   ]
  },
  {
   "cell_type": "code",
   "execution_count": 52,
   "id": "46f84359",
   "metadata": {},
   "outputs": [
    {
     "data": {
      "image/png": "[encoded data removed]",
      "text/plain": [
       "<Figure size 1200x800 with 2 Axes>"
      ]
     },
     "metadata": {},
     "output_type": "display_data"
    }
   ],
   "source": [
    "\n",
    "# Extract the hour from the working_time_arrival column\n",
    "merged_df['hour'] = merged_df['working_time_arrival'].dt.hour\n",
    "\n",
    "# Calculate the total number of trips for each station\n",
    "station_total_trips = merged_df['StationName'].value_counts()\n",
    "\n",
    "# Get the top 10 busiest stations\n",
    "top_10_stations = station_total_trips.head(10).index\n",
    "\n",
    "# Filter the data for the top 10 stations\n",
    "top_10_df = merged_df[merged_df['StationName'].isin(top_10_stations)]\n",
    "\n",
    "# Group by StationName and hour, then count occurrences\n",
    "station_hourly_counts = top_10_df.groupby(['StationName', 'hour']).size().reset_index(name='count')\n",
    "\n",
    "# Pivot the data for visualization\n",
    "pivot_data = station_hourly_counts.pivot(index='StationName', columns='hour', values='count')\n",
    "\n",
    "# Plot a heatmap to visualize the busiest hours for each top 10 station\n",
    "plt.figure(figsize=(12, 8))\n",
    "plt.pcolor(pivot_data, cmap='YlOrRd')\n",
    "plt.colorbar(label='Number of Trips')\n",
    "plt.xlabel('Hour of the Day')\n",
    "plt.ylabel('Station')\n",
    "plt.title('Top 10 Busiest Stations: Station Traffic by Hour')\n",
    "plt.xticks(range(24), range(24))\n",
    "plt.yticks(range(len(pivot_data)), pivot_data.index)\n",
    "plt.show()\n",
    "\n"
   ]
  },
  {
   "cell_type": "markdown",
   "id": "e2a4dd04",
   "metadata": {},
   "source": [
    "## Top 10 Routes and Stations with Delays in Seconds and Minutes"
   ]
  },
  {
   "cell_type": "code",
   "execution_count": 54,
   "id": "ed7f1ca4",
   "metadata": {},
   "outputs": [
    {
     "name": "stdout",
     "output_type": "stream",
     "text": [
      "Top 10 Routes and Stations with Delays in Seconds:\n",
      "route_id         StationName                     \n",
      "202307278933974  Duke Street Rail Station            86310.0\n",
      "202307287195245  New Beckenham Rail Station          86310.0\n",
      "202307277123518  Doncaster Rail Station               1800.0\n",
      "                 Grantham Rail Station                1800.0\n",
      "                 Newark North Gate Rail Station       1140.0\n",
      "202307277123494  Doncaster Rail Station                900.0\n",
      "                 Newark North Gate Rail Station        750.0\n",
      "202307277123518  Peterborough Rail Station             600.0\n",
      "202307277621889  Gillingham (Dorset) Rail Station      600.0\n",
      "                 Templecombe Rail Station              300.0\n",
      "Name: delay, dtype: float64\n",
      "Top 10 Routes and Stations with Delays in Minutes:\n",
      "route_id         StationName                     \n",
      "202307278933974  Duke Street Rail Station            1438.5\n",
      "202307287195245  New Beckenham Rail Station          1438.5\n",
      "202307277123518  Doncaster Rail Station                30.0\n",
      "                 Grantham Rail Station                 30.0\n",
      "                 Newark North Gate Rail Station        19.0\n",
      "202307277123494  Doncaster Rail Station                15.0\n",
      "                 Newark North Gate Rail Station        12.5\n",
      "202307277123518  Peterborough Rail Station             10.0\n",
      "202307277621889  Gillingham (Dorset) Rail Station      10.0\n",
      "                 Templecombe Rail Station               5.0\n",
      "Name: delay, dtype: float64\n"
     ]
    }
   ],
   "source": [
    "# Extract the total seconds from the timedelta values\n",
    "top_delays_in_seconds = top_delays.apply(lambda x: x.total_seconds())\n",
    "\n",
    "# Print the delays in seconds\n",
    "print(\"Top 10 Routes and Stations with Delays in Seconds:\")\n",
    "print(top_delays_in_seconds)\n",
    "\n",
    "# Convert the delays to minutes\n",
    "top_delays_in_minutes = top_delays_in_seconds / 60\n",
    "\n",
    "# Print the delays in minutes\n",
    "print(\"Top 10 Routes and Stations with Delays in Minutes:\")\n",
    "print(top_delays_in_minutes)"
   ]
  },
  {
   "cell_type": "code",
   "execution_count": null,
   "id": "918efc36",
   "metadata": {
    "is_executing": true
   },
   "outputs": [],
   "source": [
    "merged_df.head(1000)"
   ]
  },
  {
   "cell_type": "code",
   "execution_count": null,
   "outputs": [],
   "source": [],
   "metadata": {
    "collapsed": false
   },
   "id": "88f470d73872ad53"
  }
 ],
 "metadata": {
  "kernelspec": {
   "display_name": "Python 3 (ipykernel)",
   "language": "python",
   "name": "python3"
  },
  "language_info": {
   "codemirror_mode": {
    "name": "ipython",
    "version": 3
   },
   "file_extension": ".py",
   "mimetype": "text/x-python",
   "name": "python",
   "nbconvert_exporter": "python",
   "pygments_lexer": "ipython3",
   "version": "3.9.13"
  }
 },
 "nbformat": 4,
 "nbformat_minor": 5
}
